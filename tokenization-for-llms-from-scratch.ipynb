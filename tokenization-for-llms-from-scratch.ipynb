{
 "cells": [
  {
   "cell_type": "markdown",
   "id": "1532f073",
   "metadata": {
    "papermill": {
     "duration": 0.034017,
     "end_time": "2024-04-01T08:55:01.298152",
     "exception": false,
     "start_time": "2024-04-01T08:55:01.264135",
     "status": "completed"
    },
    "tags": []
   },
   "source": [
    "<font size=\"1\">\n",
    "Code for \"Build a Large Language Model From Scratch\"\n",
    "    \n",
    "<!--     : <a href=\"https://www.manning.com/books/build-a-large-language-model-from-scratch\">https://www.manning.com/books/build-a-large-language-model-from-scratch</a> <br> -->\n",
    "<!-- Code repository: <a href=\"https://github.com/rasbt/LLMs-from-scratch\">https://github.com/rasbt/LLMs-from-scratch</a> -->\n",
    "</font>"
   ]
  },
  {
   "cell_type": "markdown",
   "id": "d6845e00",
   "metadata": {
    "papermill": {
     "duration": 0.034014,
     "end_time": "2024-04-01T08:55:01.367400",
     "exception": false,
     "start_time": "2024-04-01T08:55:01.333386",
     "status": "completed"
    },
    "tags": []
   },
   "source": [
    "# Working with Text"
   ]
  },
  {
   "cell_type": "markdown",
   "id": "4c0b5380",
   "metadata": {
    "papermill": {
     "duration": 0.034805,
     "end_time": "2024-04-01T08:55:01.436484",
     "exception": false,
     "start_time": "2024-04-01T08:55:01.401679",
     "status": "completed"
    },
    "tags": []
   },
   "source": [
    "Packages that are being used in this notebook:"
   ]
  },
  {
   "cell_type": "code",
   "execution_count": 1,
   "id": "17bdaff1",
   "metadata": {
    "execution": {
     "iopub.execute_input": "2024-04-01T08:55:01.506579Z",
     "iopub.status.busy": "2024-04-01T08:55:01.505870Z",
     "iopub.status.idle": "2024-04-01T08:55:18.711048Z",
     "shell.execute_reply": "2024-04-01T08:55:18.709698Z"
    },
    "papermill": {
     "duration": 17.243209,
     "end_time": "2024-04-01T08:55:18.713992",
     "exception": false,
     "start_time": "2024-04-01T08:55:01.470783",
     "status": "completed"
    },
    "tags": []
   },
   "outputs": [
    {
     "name": "stdout",
     "output_type": "stream",
     "text": [
      "Collecting tiktoken\r\n",
      "  Downloading tiktoken-0.6.0-cp310-cp310-manylinux_2_17_x86_64.manylinux2014_x86_64.whl.metadata (6.6 kB)\r\n",
      "Requirement already satisfied: regex>=2022.1.18 in /opt/conda/lib/python3.10/site-packages (from tiktoken) (2023.12.25)\r\n",
      "Requirement already satisfied: requests>=2.26.0 in /opt/conda/lib/python3.10/site-packages (from tiktoken) (2.31.0)\r\n",
      "Requirement already satisfied: charset-normalizer<4,>=2 in /opt/conda/lib/python3.10/site-packages (from requests>=2.26.0->tiktoken) (3.3.2)\r\n",
      "Requirement already satisfied: idna<4,>=2.5 in /opt/conda/lib/python3.10/site-packages (from requests>=2.26.0->tiktoken) (3.6)\r\n",
      "Requirement already satisfied: urllib3<3,>=1.21.1 in /opt/conda/lib/python3.10/site-packages (from requests>=2.26.0->tiktoken) (1.26.18)\r\n",
      "Requirement already satisfied: certifi>=2017.4.17 in /opt/conda/lib/python3.10/site-packages (from requests>=2.26.0->tiktoken) (2024.2.2)\r\n",
      "Downloading tiktoken-0.6.0-cp310-cp310-manylinux_2_17_x86_64.manylinux2014_x86_64.whl (1.8 MB)\r\n",
      "\u001b[2K   \u001b[90m━━━━━━━━━━━━━━━━━━━━━━━━━━━━━━━━━━━━━━━━\u001b[0m \u001b[32m1.8/1.8 MB\u001b[0m \u001b[31m31.4 MB/s\u001b[0m eta \u001b[36m0:00:00\u001b[0m\r\n",
      "\u001b[?25hInstalling collected packages: tiktoken\r\n",
      "Successfully installed tiktoken-0.6.0\r\n"
     ]
    }
   ],
   "source": [
    "!pip install tiktoken"
   ]
  },
  {
   "cell_type": "code",
   "execution_count": 2,
   "id": "0791d290",
   "metadata": {
    "execution": {
     "iopub.execute_input": "2024-04-01T08:55:18.785324Z",
     "iopub.status.busy": "2024-04-01T08:55:18.784276Z",
     "iopub.status.idle": "2024-04-01T08:55:22.794228Z",
     "shell.execute_reply": "2024-04-01T08:55:22.792952Z"
    },
    "papermill": {
     "duration": 4.048865,
     "end_time": "2024-04-01T08:55:22.796880",
     "exception": false,
     "start_time": "2024-04-01T08:55:18.748015",
     "status": "completed"
    },
    "tags": []
   },
   "outputs": [
    {
     "name": "stdout",
     "output_type": "stream",
     "text": [
      "torch version: 2.1.2+cpu\n",
      "tiktoken version: 0.6.0\n"
     ]
    }
   ],
   "source": [
    "from importlib.metadata import version\n",
    "\n",
    "import tiktoken\n",
    "import torch\n",
    "\n",
    "print(\"torch version:\", version(\"torch\"))\n",
    "print(\"tiktoken version:\", version(\"tiktoken\"))"
   ]
  },
  {
   "cell_type": "markdown",
   "id": "314d7e86",
   "metadata": {
    "papermill": {
     "duration": 0.033946,
     "end_time": "2024-04-01T08:55:22.864901",
     "exception": false,
     "start_time": "2024-04-01T08:55:22.830955",
     "status": "completed"
    },
    "tags": []
   },
   "source": [
    "- This chapter covers data preparation and sampling to get input data \"ready\" for the LLM"
   ]
  },
  {
   "cell_type": "markdown",
   "id": "941b3d72",
   "metadata": {
    "papermill": {
     "duration": 0.034974,
     "end_time": "2024-04-01T08:55:22.935196",
     "exception": false,
     "start_time": "2024-04-01T08:55:22.900222",
     "status": "completed"
    },
    "tags": []
   },
   "source": [
    "<img src=\"https://sebastianraschka.com/images/LLMs-from-scratch-images/ch02_compressed/01.webp\" width=\"500px\">"
   ]
  },
  {
   "cell_type": "markdown",
   "id": "f8307f5e",
   "metadata": {
    "papermill": {
     "duration": 0.036819,
     "end_time": "2024-04-01T08:55:23.006542",
     "exception": false,
     "start_time": "2024-04-01T08:55:22.969723",
     "status": "completed"
    },
    "tags": []
   },
   "source": [
    "## 2.1 Understanding word embeddings"
   ]
  },
  {
   "cell_type": "markdown",
   "id": "50a0f543",
   "metadata": {
    "papermill": {
     "duration": 0.034927,
     "end_time": "2024-04-01T08:55:23.077455",
     "exception": false,
     "start_time": "2024-04-01T08:55:23.042528",
     "status": "completed"
    },
    "tags": []
   },
   "source": [
    "- No code in this section"
   ]
  },
  {
   "cell_type": "markdown",
   "id": "36aed06d",
   "metadata": {
    "papermill": {
     "duration": 0.035614,
     "end_time": "2024-04-01T08:55:23.215890",
     "exception": false,
     "start_time": "2024-04-01T08:55:23.180276",
     "status": "completed"
    },
    "tags": []
   },
   "source": [
    "- There are any forms of embeddings; we focus on text embeddings in this book"
   ]
  },
  {
   "cell_type": "markdown",
   "id": "4b3799f3",
   "metadata": {
    "papermill": {
     "duration": 0.035998,
     "end_time": "2024-04-01T08:55:23.287138",
     "exception": false,
     "start_time": "2024-04-01T08:55:23.251140",
     "status": "completed"
    },
    "tags": []
   },
   "source": [
    "<img src=\"https://sebastianraschka.com/images/LLMs-from-scratch-images/ch02_compressed/02.webp\" width=\"500px\">"
   ]
  },
  {
   "cell_type": "markdown",
   "id": "fab257a9",
   "metadata": {
    "papermill": {
     "duration": 0.034471,
     "end_time": "2024-04-01T08:55:23.357091",
     "exception": false,
     "start_time": "2024-04-01T08:55:23.322620",
     "status": "completed"
    },
    "tags": []
   },
   "source": [
    "- LLMs work embeddings in high-dimensional spaces (i.e., thousands of dimensions)\n",
    "- Since we can't visualize such high-dimensional spaces (we humans think in 1, 2, or 3 dimensions), the figure below illustrates a 2-dimensipnal embedding space"
   ]
  },
  {
   "cell_type": "markdown",
   "id": "532c7dcd",
   "metadata": {
    "papermill": {
     "duration": 0.035811,
     "end_time": "2024-04-01T08:55:23.427655",
     "exception": false,
     "start_time": "2024-04-01T08:55:23.391844",
     "status": "completed"
    },
    "tags": []
   },
   "source": [
    "<img src=\"https://sebastianraschka.com/images/LLMs-from-scratch-images/ch02_compressed/03.webp\" width=\"300px\">"
   ]
  },
  {
   "cell_type": "markdown",
   "id": "d55454ec",
   "metadata": {
    "papermill": {
     "duration": 0.03601,
     "end_time": "2024-04-01T08:55:23.499034",
     "exception": false,
     "start_time": "2024-04-01T08:55:23.463024",
     "status": "completed"
    },
    "tags": []
   },
   "source": [
    "## 2.2 Tokenizing text"
   ]
  },
  {
   "cell_type": "markdown",
   "id": "7848e18e",
   "metadata": {
    "papermill": {
     "duration": 0.035361,
     "end_time": "2024-04-01T08:55:23.570239",
     "exception": false,
     "start_time": "2024-04-01T08:55:23.534878",
     "status": "completed"
    },
    "tags": []
   },
   "source": [
    "- In this section, we tokenize text, which means breaking text into smaller units, such as individual words and punctuation characters"
   ]
  },
  {
   "cell_type": "markdown",
   "id": "1dcc6ff0",
   "metadata": {
    "papermill": {
     "duration": 0.034642,
     "end_time": "2024-04-01T08:55:23.639995",
     "exception": false,
     "start_time": "2024-04-01T08:55:23.605353",
     "status": "completed"
    },
    "tags": []
   },
   "source": [
    "<img src=\"https://sebastianraschka.com/images/LLMs-from-scratch-images/ch02_compressed/04.webp\" width=\"300px\">"
   ]
  },
  {
   "cell_type": "markdown",
   "id": "b2498c9f",
   "metadata": {
    "papermill": {
     "duration": 0.034352,
     "end_time": "2024-04-01T08:55:23.710397",
     "exception": false,
     "start_time": "2024-04-01T08:55:23.676045",
     "status": "completed"
    },
    "tags": []
   },
   "source": [
    "- Load raw text we want to work with\n"
   ]
  },
  {
   "cell_type": "code",
   "execution_count": 3,
   "id": "0a01d591",
   "metadata": {
    "execution": {
     "iopub.execute_input": "2024-04-01T08:55:23.781893Z",
     "iopub.status.busy": "2024-04-01T08:55:23.781303Z",
     "iopub.status.idle": "2024-04-01T08:55:23.798122Z",
     "shell.execute_reply": "2024-04-01T08:55:23.796787Z"
    },
    "papermill": {
     "duration": 0.056116,
     "end_time": "2024-04-01T08:55:23.800867",
     "exception": false,
     "start_time": "2024-04-01T08:55:23.744751",
     "status": "completed"
    },
    "tags": []
   },
   "outputs": [
    {
     "name": "stdout",
     "output_type": "stream",
     "text": [
      "Total number of characters: 20479\n",
      "I HAD always thought Jack Gisburn rather a cheap genius--though a good fellow enough--so it was no grea\n"
     ]
    }
   ],
   "source": [
    "with open(\"/kaggle/input/verdict-nlp/the-verdict.txt\", \"r\", encoding=\"utf-8\") as f:\n",
    "    raw_text = f.read()\n",
    "     \n",
    "print(\"Total number of characters:\", len(raw_text))\n",
    "print(raw_text[:103])"
   ]
  },
  {
   "cell_type": "markdown",
   "id": "023c1de7",
   "metadata": {
    "papermill": {
     "duration": 0.036275,
     "end_time": "2024-04-01T08:55:23.871946",
     "exception": false,
     "start_time": "2024-04-01T08:55:23.835671",
     "status": "completed"
    },
    "tags": []
   },
   "source": [
    "- The goal is to tokenize and embed this text for an LLM\n",
    "- Let's develop a simple tokenizer based on some simple sample text that we can then later apply to the text above\n",
    "- The following regular expression will split on whitespaces"
   ]
  },
  {
   "cell_type": "code",
   "execution_count": 4,
   "id": "43be13a0",
   "metadata": {
    "execution": {
     "iopub.execute_input": "2024-04-01T08:55:23.943476Z",
     "iopub.status.busy": "2024-04-01T08:55:23.943035Z",
     "iopub.status.idle": "2024-04-01T08:55:23.949692Z",
     "shell.execute_reply": "2024-04-01T08:55:23.948474Z"
    },
    "papermill": {
     "duration": 0.045937,
     "end_time": "2024-04-01T08:55:23.952302",
     "exception": false,
     "start_time": "2024-04-01T08:55:23.906365",
     "status": "completed"
    },
    "tags": []
   },
   "outputs": [
    {
     "name": "stdout",
     "output_type": "stream",
     "text": [
      "['Hello,', ' ', 'world.', ' ', 'This,', ' ', 'is', ' ', 'a', ' ', 'test.Acvx']\n"
     ]
    }
   ],
   "source": [
    "import re\n",
    "\n",
    "text = \"Hello, world. This, is a test.Acvx\"\n",
    "result = re.split(r'(\\s)', text)\n",
    "\n",
    "print(result)"
   ]
  },
  {
   "cell_type": "code",
   "execution_count": 5,
   "id": "a03684fb",
   "metadata": {
    "execution": {
     "iopub.execute_input": "2024-04-01T08:55:24.025914Z",
     "iopub.status.busy": "2024-04-01T08:55:24.025226Z",
     "iopub.status.idle": "2024-04-01T08:55:24.034434Z",
     "shell.execute_reply": "2024-04-01T08:55:24.032586Z"
    },
    "papermill": {
     "duration": 0.051271,
     "end_time": "2024-04-01T08:55:24.038211",
     "exception": false,
     "start_time": "2024-04-01T08:55:23.986940",
     "status": "completed"
    },
    "tags": []
   },
   "outputs": [
    {
     "name": "stdout",
     "output_type": "stream",
     "text": [
      "['Hello,', '', 'world.', '', 'thIS', '', 'is', '', 'a', '', 'shoukhin.Abc']\n"
     ]
    }
   ],
   "source": [
    "import re \n",
    "text=\"Hello, world. thIS is a shoukhin.Abc\"\n",
    "text1 = \"Hello, world. Is this-- a test?\"\n",
    "\n",
    "r1=re.split(' ',text)\n",
    "r2=re.split(r'()\\s',text)\n",
    "print(r2)"
   ]
  },
  {
   "cell_type": "markdown",
   "id": "63ad0970",
   "metadata": {
    "papermill": {
     "duration": 0.036055,
     "end_time": "2024-04-01T08:55:24.109977",
     "exception": false,
     "start_time": "2024-04-01T08:55:24.073922",
     "status": "completed"
    },
    "tags": []
   },
   "source": [
    "- We don't only want to split on whitespaces but also commas and periods, so let's modify the regular expression to do that as well"
   ]
  },
  {
   "cell_type": "code",
   "execution_count": 6,
   "id": "a644f74e",
   "metadata": {
    "execution": {
     "iopub.execute_input": "2024-04-01T08:55:24.181605Z",
     "iopub.status.busy": "2024-04-01T08:55:24.181205Z",
     "iopub.status.idle": "2024-04-01T08:55:24.187673Z",
     "shell.execute_reply": "2024-04-01T08:55:24.186324Z"
    },
    "papermill": {
     "duration": 0.045514,
     "end_time": "2024-04-01T08:55:24.190366",
     "exception": false,
     "start_time": "2024-04-01T08:55:24.144852",
     "status": "completed"
    },
    "tags": []
   },
   "outputs": [
    {
     "name": "stdout",
     "output_type": "stream",
     "text": [
      "['Hello', ',', '', ' ', 'world', '.', '', ' ', 'thIS', ' ', 'is', ' ', 'a', ' ', 'shoukhin', '.', 'Abc']\n"
     ]
    }
   ],
   "source": [
    "result = re.split(r'([,.]|\\s)', text)\n",
    "\n",
    "print(result)"
   ]
  },
  {
   "cell_type": "markdown",
   "id": "e011c7ed",
   "metadata": {
    "papermill": {
     "duration": 0.03472,
     "end_time": "2024-04-01T08:55:24.261029",
     "exception": false,
     "start_time": "2024-04-01T08:55:24.226309",
     "status": "completed"
    },
    "tags": []
   },
   "source": [
    "- As we can see, this creates empty strings, let's remove them"
   ]
  },
  {
   "cell_type": "code",
   "execution_count": 7,
   "id": "3465b971",
   "metadata": {
    "execution": {
     "iopub.execute_input": "2024-04-01T08:55:24.334161Z",
     "iopub.status.busy": "2024-04-01T08:55:24.333765Z",
     "iopub.status.idle": "2024-04-01T08:55:24.340150Z",
     "shell.execute_reply": "2024-04-01T08:55:24.338824Z"
    },
    "papermill": {
     "duration": 0.045454,
     "end_time": "2024-04-01T08:55:24.342662",
     "exception": false,
     "start_time": "2024-04-01T08:55:24.297208",
     "status": "completed"
    },
    "tags": []
   },
   "outputs": [
    {
     "name": "stdout",
     "output_type": "stream",
     "text": [
      "['Hello', ',', 'world', '.', 'thIS', 'is', 'a', 'shoukhin', '.', 'Abc']\n"
     ]
    }
   ],
   "source": [
    "# Strip whitespace from each item and then filter out any empty strings.\n",
    "result = [item for item in result if item.strip()]\n",
    "print(result)"
   ]
  },
  {
   "cell_type": "markdown",
   "id": "816b5bd5",
   "metadata": {
    "papermill": {
     "duration": 0.036154,
     "end_time": "2024-04-01T08:55:24.414150",
     "exception": false,
     "start_time": "2024-04-01T08:55:24.377996",
     "status": "completed"
    },
    "tags": []
   },
   "source": [
    "- This looks pretty good, but let's also handle other types of punctuation, such as periods, question marks, and so on"
   ]
  },
  {
   "cell_type": "code",
   "execution_count": 8,
   "id": "fad1f5bb",
   "metadata": {
    "execution": {
     "iopub.execute_input": "2024-04-01T08:55:24.486083Z",
     "iopub.status.busy": "2024-04-01T08:55:24.485683Z",
     "iopub.status.idle": "2024-04-01T08:55:24.493189Z",
     "shell.execute_reply": "2024-04-01T08:55:24.491977Z"
    },
    "papermill": {
     "duration": 0.046929,
     "end_time": "2024-04-01T08:55:24.495943",
     "exception": false,
     "start_time": "2024-04-01T08:55:24.449014",
     "status": "completed"
    },
    "tags": []
   },
   "outputs": [
    {
     "name": "stdout",
     "output_type": "stream",
     "text": [
      "['Hello', ',', '', ' ', 'world', '.', '', ' ', 'Is', ' ', 'this', '--', '', ' ', 'a', ' ', 'test', '?', '']\n",
      "['Hello', ',', 'world', '.', 'Is', 'this', '--', 'a', 'test', '?']\n"
     ]
    }
   ],
   "source": [
    "text = \"Hello, world. Is this-- a test?\"\n",
    "\n",
    "result = re.split(r'([,.:;?_!\"()\\']|--|\\s)', text)\n",
    "print(result)\n",
    "result = [item.strip() for item in result if item.strip()] #space remove by strip() function\n",
    "print(result)"
   ]
  },
  {
   "cell_type": "markdown",
   "id": "c37b3029",
   "metadata": {
    "papermill": {
     "duration": 0.035205,
     "end_time": "2024-04-01T08:55:24.566040",
     "exception": false,
     "start_time": "2024-04-01T08:55:24.530835",
     "status": "completed"
    },
    "tags": []
   },
   "source": [
    "- This is pretty good, and we are now ready to apply this tokenization to the raw text"
   ]
  },
  {
   "cell_type": "markdown",
   "id": "ac285f3f",
   "metadata": {
    "papermill": {
     "duration": 0.035246,
     "end_time": "2024-04-01T08:55:24.636308",
     "exception": false,
     "start_time": "2024-04-01T08:55:24.601062",
     "status": "completed"
    },
    "tags": []
   },
   "source": [
    "<img src=\"https://sebastianraschka.com/images/LLMs-from-scratch-images/ch02_compressed/05.webp\" width=\"350px\">"
   ]
  },
  {
   "cell_type": "code",
   "execution_count": 9,
   "id": "c423b3f4",
   "metadata": {
    "execution": {
     "iopub.execute_input": "2024-04-01T08:55:24.709326Z",
     "iopub.status.busy": "2024-04-01T08:55:24.708921Z",
     "iopub.status.idle": "2024-04-01T08:55:24.723538Z",
     "shell.execute_reply": "2024-04-01T08:55:24.721094Z"
    },
    "papermill": {
     "duration": 0.054653,
     "end_time": "2024-04-01T08:55:24.726698",
     "exception": false,
     "start_time": "2024-04-01T08:55:24.672045",
     "status": "completed"
    },
    "tags": []
   },
   "outputs": [
    {
     "name": "stdout",
     "output_type": "stream",
     "text": [
      "['I', 'HAD', 'always', 'thought', 'Jack', 'Gisburn', 'rather', 'a', 'cheap', 'genius', '--', 'though', 'a', 'good', 'fellow', 'enough', '--', 'so', 'it', 'was', 'no', 'great', 'surprise', 'to', 'me', 'to', 'hear', 'that', ',', 'in']\n",
      "\n",
      "  Dataset er length :  4649\n"
     ]
    }
   ],
   "source": [
    "preprocessed = re.split(r'([,.?_!\"()\\']|--|\\s)', raw_text) #verdict dataset theke raw_text data nilam\n",
    "preprocessed = [item.strip() for item in preprocessed if item.strip()] #white space removed korlam\n",
    "\n",
    "# print(preprocessed)\n",
    "print(preprocessed[:30])\n",
    "print(\"\\n  Dataset er length : \", len(preprocessed))"
   ]
  },
  {
   "cell_type": "markdown",
   "id": "505b6546",
   "metadata": {
    "papermill": {
     "duration": 0.034881,
     "end_time": "2024-04-01T08:55:24.798026",
     "exception": false,
     "start_time": "2024-04-01T08:55:24.763145",
     "status": "completed"
    },
    "tags": []
   },
   "source": [
    "- Let's calculate the total number of tokens"
   ]
  },
  {
   "cell_type": "code",
   "execution_count": 10,
   "id": "cfa1d9ee",
   "metadata": {
    "execution": {
     "iopub.execute_input": "2024-04-01T08:55:24.870130Z",
     "iopub.status.busy": "2024-04-01T08:55:24.869744Z",
     "iopub.status.idle": "2024-04-01T08:55:24.875082Z",
     "shell.execute_reply": "2024-04-01T08:55:24.873907Z"
    },
    "papermill": {
     "duration": 0.04421,
     "end_time": "2024-04-01T08:55:24.877404",
     "exception": false,
     "start_time": "2024-04-01T08:55:24.833194",
     "status": "completed"
    },
    "tags": []
   },
   "outputs": [
    {
     "name": "stdout",
     "output_type": "stream",
     "text": [
      "4649\n"
     ]
    }
   ],
   "source": [
    "print(len(preprocessed))"
   ]
  },
  {
   "cell_type": "markdown",
   "id": "e26eb72c",
   "metadata": {
    "papermill": {
     "duration": 0.035559,
     "end_time": "2024-04-01T08:55:24.947927",
     "exception": false,
     "start_time": "2024-04-01T08:55:24.912368",
     "status": "completed"
    },
    "tags": []
   },
   "source": [
    "## 2.3 Converting tokens into token IDs"
   ]
  },
  {
   "cell_type": "markdown",
   "id": "d2e51d50",
   "metadata": {
    "papermill": {
     "duration": 0.036854,
     "end_time": "2024-04-01T08:55:25.020028",
     "exception": false,
     "start_time": "2024-04-01T08:55:24.983174",
     "status": "completed"
    },
    "tags": []
   },
   "source": [
    "- Next, we convert the text tokens into token IDs that we can process via embedding layers later"
   ]
  },
  {
   "cell_type": "markdown",
   "id": "c5cd4f82",
   "metadata": {
    "papermill": {
     "duration": 0.036119,
     "end_time": "2024-04-01T08:55:25.092112",
     "exception": false,
     "start_time": "2024-04-01T08:55:25.055993",
     "status": "completed"
    },
    "tags": []
   },
   "source": [
    "<img src=\"https://sebastianraschka.com/images/LLMs-from-scratch-images/ch02_compressed/06.webp\" width=\"500px\">"
   ]
  },
  {
   "cell_type": "markdown",
   "id": "0c89906e",
   "metadata": {
    "papermill": {
     "duration": 0.037032,
     "end_time": "2024-04-01T08:55:25.165825",
     "exception": false,
     "start_time": "2024-04-01T08:55:25.128793",
     "status": "completed"
    },
    "tags": []
   },
   "source": [
    "- From these tokens, we can now build a vocabulary that consists of all the unique tokens"
   ]
  },
  {
   "cell_type": "code",
   "execution_count": 11,
   "id": "86510145",
   "metadata": {
    "execution": {
     "iopub.execute_input": "2024-04-01T08:55:25.242702Z",
     "iopub.status.busy": "2024-04-01T08:55:25.242248Z",
     "iopub.status.idle": "2024-04-01T08:55:25.248224Z",
     "shell.execute_reply": "2024-04-01T08:55:25.247342Z"
    },
    "papermill": {
     "duration": 0.048398,
     "end_time": "2024-04-01T08:55:25.250440",
     "exception": false,
     "start_time": "2024-04-01T08:55:25.202042",
     "status": "completed"
    },
    "tags": []
   },
   "outputs": [
    {
     "name": "stdout",
     "output_type": "stream",
     "text": [
      "1159\n"
     ]
    }
   ],
   "source": [
    "all_words = sorted(list(set(preprocessed)))\n",
    "vocab_size = len(all_words)\n",
    "\n",
    "print(vocab_size)"
   ]
  },
  {
   "cell_type": "code",
   "execution_count": 12,
   "id": "3c005119",
   "metadata": {
    "execution": {
     "iopub.execute_input": "2024-04-01T08:55:25.326117Z",
     "iopub.status.busy": "2024-04-01T08:55:25.325351Z",
     "iopub.status.idle": "2024-04-01T08:55:25.330497Z",
     "shell.execute_reply": "2024-04-01T08:55:25.329665Z"
    },
    "papermill": {
     "duration": 0.045643,
     "end_time": "2024-04-01T08:55:25.332929",
     "exception": false,
     "start_time": "2024-04-01T08:55:25.287286",
     "status": "completed"
    },
    "tags": []
   },
   "outputs": [],
   "source": [
    "vocab = {token:integer for integer,token in enumerate(all_words)}"
   ]
  },
  {
   "cell_type": "markdown",
   "id": "a59aa365",
   "metadata": {
    "papermill": {
     "duration": 0.034883,
     "end_time": "2024-04-01T08:55:25.403522",
     "exception": false,
     "start_time": "2024-04-01T08:55:25.368639",
     "status": "completed"
    },
    "tags": []
   },
   "source": [
    "- Below are the first 50 entries in this vocabulary:"
   ]
  },
  {
   "cell_type": "code",
   "execution_count": 13,
   "id": "039ab580",
   "metadata": {
    "execution": {
     "iopub.execute_input": "2024-04-01T08:55:25.476585Z",
     "iopub.status.busy": "2024-04-01T08:55:25.476153Z",
     "iopub.status.idle": "2024-04-01T08:55:25.483671Z",
     "shell.execute_reply": "2024-04-01T08:55:25.481617Z"
    },
    "papermill": {
     "duration": 0.046936,
     "end_time": "2024-04-01T08:55:25.486241",
     "exception": false,
     "start_time": "2024-04-01T08:55:25.439305",
     "status": "completed"
    },
    "tags": []
   },
   "outputs": [
    {
     "name": "stdout",
     "output_type": "stream",
     "text": [
      "('!', 0)\n",
      "('\"', 1)\n",
      "(\"'\", 2)\n",
      "('(', 3)\n",
      "(')', 4)\n",
      "(',', 5)\n",
      "('--', 6)\n",
      "('.', 7)\n",
      "(':', 8)\n",
      "(';', 9)\n",
      "('?', 10)\n",
      "('A', 11)\n",
      "('Ah', 12)\n",
      "('Among', 13)\n",
      "('And', 14)\n",
      "('Are', 15)\n",
      "('Arrt', 16)\n",
      "('As', 17)\n",
      "('At', 18)\n",
      "('Be', 19)\n",
      "('Begin', 20)\n",
      "('Burlington', 21)\n",
      "('But', 22)\n",
      "('By', 23)\n",
      "('Carlo', 24)\n",
      "('Carlo;', 25)\n",
      "('Chicago', 26)\n",
      "('Claude', 27)\n",
      "('Come', 28)\n",
      "('Croft', 29)\n",
      "('Destroyed', 30)\n",
      "('Devonshire', 31)\n",
      "('Don', 32)\n",
      "('Dubarry', 33)\n",
      "('Emperors', 34)\n",
      "('Florence', 35)\n",
      "('For', 36)\n",
      "('Gallery', 37)\n",
      "('Gideon', 38)\n",
      "('Gisburn', 39)\n",
      "('Gisburns', 40)\n",
      "('Grafton', 41)\n",
      "('Greek', 42)\n",
      "('Grindle', 43)\n",
      "('Grindle:', 44)\n",
      "('Grindles', 45)\n",
      "('HAD', 46)\n",
      "('Had', 47)\n",
      "('Hang', 48)\n",
      "('Has', 49)\n",
      "('He', 50)\n"
     ]
    }
   ],
   "source": [
    "for i, item in enumerate(vocab.items()):\n",
    "    print(item)\n",
    "    if i >= 50:\n",
    "        break"
   ]
  },
  {
   "cell_type": "markdown",
   "id": "5bab9aa8",
   "metadata": {
    "papermill": {
     "duration": 0.035541,
     "end_time": "2024-04-01T08:55:25.557444",
     "exception": false,
     "start_time": "2024-04-01T08:55:25.521903",
     "status": "completed"
    },
    "tags": []
   },
   "source": [
    "- Below, we illustrate the tokenization of a short sample text using a small vocabulary:"
   ]
  },
  {
   "cell_type": "markdown",
   "id": "5d32eb8b",
   "metadata": {
    "papermill": {
     "duration": 0.035685,
     "end_time": "2024-04-01T08:55:25.628751",
     "exception": false,
     "start_time": "2024-04-01T08:55:25.593066",
     "status": "completed"
    },
    "tags": []
   },
   "source": [
    "<img src=\"https://sebastianraschka.com/images/LLMs-from-scratch-images/ch02_compressed/07.webp\" width=\"500px\">"
   ]
  },
  {
   "cell_type": "markdown",
   "id": "1e56ba29",
   "metadata": {
    "papermill": {
     "duration": 0.035182,
     "end_time": "2024-04-01T08:55:25.699114",
     "exception": false,
     "start_time": "2024-04-01T08:55:25.663932",
     "status": "completed"
    },
    "tags": []
   },
   "source": [
    "- Putting it now all together into a tokenizer class"
   ]
  },
  {
   "cell_type": "code",
   "execution_count": 14,
   "id": "c951e06c",
   "metadata": {
    "execution": {
     "iopub.execute_input": "2024-04-01T08:55:25.772969Z",
     "iopub.status.busy": "2024-04-01T08:55:25.772551Z",
     "iopub.status.idle": "2024-04-01T08:55:25.781300Z",
     "shell.execute_reply": "2024-04-01T08:55:25.779913Z"
    },
    "papermill": {
     "duration": 0.049492,
     "end_time": "2024-04-01T08:55:25.783941",
     "exception": false,
     "start_time": "2024-04-01T08:55:25.734449",
     "status": "completed"
    },
    "tags": []
   },
   "outputs": [],
   "source": [
    "class SimpleTokenizerV1:\n",
    "    def __init__(self, vocab):\n",
    "        self.str_to_int = vocab\n",
    "        self.int_to_str = {i:s for s,i in vocab.items()}\n",
    "    \n",
    "    def encode(self, text):\n",
    "        preprocessed = re.split(r'([,.?_!\"()\\']|--|\\s)', text)\n",
    "        preprocessed = [item.strip() for item in preprocessed if item.strip()]\n",
    "        ids = [self.str_to_int[s] for s in preprocessed]\n",
    "        return ids\n",
    "        \n",
    "    def decode(self, ids):\n",
    "        text = \" \".join([self.int_to_str[i] for i in ids])\n",
    "        # Replace spaces before the specified punctuations\n",
    "        text = re.sub(r'\\s+([,.?!\"()\\'])', r'\\1', text)\n",
    "        return text"
   ]
  },
  {
   "cell_type": "markdown",
   "id": "9ca8a009",
   "metadata": {
    "papermill": {
     "duration": 0.035305,
     "end_time": "2024-04-01T08:55:25.856644",
     "exception": false,
     "start_time": "2024-04-01T08:55:25.821339",
     "status": "completed"
    },
    "tags": []
   },
   "source": [
    "- The `encode` function turns text into token IDs\n",
    "- The `decode` function turns token IDs back into text"
   ]
  },
  {
   "cell_type": "markdown",
   "id": "0221d19b",
   "metadata": {
    "papermill": {
     "duration": 0.035074,
     "end_time": "2024-04-01T08:55:25.928082",
     "exception": false,
     "start_time": "2024-04-01T08:55:25.893008",
     "status": "completed"
    },
    "tags": []
   },
   "source": [
    "<img src=\"https://sebastianraschka.com/images/LLMs-from-scratch-images/ch02_compressed/08.webp\" width=\"500px\">"
   ]
  },
  {
   "cell_type": "markdown",
   "id": "2cd453b4",
   "metadata": {
    "papermill": {
     "duration": 0.036383,
     "end_time": "2024-04-01T08:55:25.999940",
     "exception": false,
     "start_time": "2024-04-01T08:55:25.963557",
     "status": "completed"
    },
    "tags": []
   },
   "source": [
    "- We can use the tokenizer to encode (that is, tokenize) texts into integers\n",
    "- These integers can then be embedded (later) as input of/for the LLM"
   ]
  },
  {
   "cell_type": "code",
   "execution_count": 15,
   "id": "84ea7fa5",
   "metadata": {
    "execution": {
     "iopub.execute_input": "2024-04-01T08:55:26.078518Z",
     "iopub.status.busy": "2024-04-01T08:55:26.077746Z",
     "iopub.status.idle": "2024-04-01T08:55:26.084930Z",
     "shell.execute_reply": "2024-04-01T08:55:26.083387Z"
    },
    "papermill": {
     "duration": 0.048912,
     "end_time": "2024-04-01T08:55:26.087659",
     "exception": false,
     "start_time": "2024-04-01T08:55:26.038747",
     "status": "completed"
    },
    "tags": []
   },
   "outputs": [
    {
     "name": "stdout",
     "output_type": "stream",
     "text": [
      "[1, 58, 2, 872, 1013, 615, 541, 763, 5, 1155, 608, 5, 1, 69, 7, 39, 873, 1136, 773, 812, 7]\n"
     ]
    }
   ],
   "source": [
    "tokenizer = SimpleTokenizerV1(vocab)\n",
    "\n",
    "text = \"\"\"\"It's the last he painted, you know,\" Mrs. Gisburn said with pardonable pride.\"\"\"\n",
    "ids = tokenizer.encode(text)\n",
    "print(ids)"
   ]
  },
  {
   "cell_type": "markdown",
   "id": "8108ce50",
   "metadata": {
    "papermill": {
     "duration": 0.03598,
     "end_time": "2024-04-01T08:55:26.159489",
     "exception": false,
     "start_time": "2024-04-01T08:55:26.123509",
     "status": "completed"
    },
    "tags": []
   },
   "source": [
    "- We can decode the integers back into text"
   ]
  },
  {
   "cell_type": "code",
   "execution_count": 16,
   "id": "d34de601",
   "metadata": {
    "execution": {
     "iopub.execute_input": "2024-04-01T08:55:26.233733Z",
     "iopub.status.busy": "2024-04-01T08:55:26.233096Z",
     "iopub.status.idle": "2024-04-01T08:55:26.242004Z",
     "shell.execute_reply": "2024-04-01T08:55:26.240691Z"
    },
    "papermill": {
     "duration": 0.049336,
     "end_time": "2024-04-01T08:55:26.244610",
     "exception": false,
     "start_time": "2024-04-01T08:55:26.195274",
     "status": "completed"
    },
    "tags": []
   },
   "outputs": [
    {
     "data": {
      "text/plain": [
       "'\" It\\' s the last he painted, you know,\" Mrs. Gisburn said with pardonable pride.'"
      ]
     },
     "execution_count": 16,
     "metadata": {},
     "output_type": "execute_result"
    }
   ],
   "source": [
    "tokenizer.decode(ids)"
   ]
  },
  {
   "cell_type": "code",
   "execution_count": 17,
   "id": "832b833b",
   "metadata": {
    "execution": {
     "iopub.execute_input": "2024-04-01T08:55:26.319474Z",
     "iopub.status.busy": "2024-04-01T08:55:26.318836Z",
     "iopub.status.idle": "2024-04-01T08:55:26.325019Z",
     "shell.execute_reply": "2024-04-01T08:55:26.323909Z"
    },
    "papermill": {
     "duration": 0.046213,
     "end_time": "2024-04-01T08:55:26.327217",
     "exception": false,
     "start_time": "2024-04-01T08:55:26.281004",
     "status": "completed"
    },
    "tags": []
   },
   "outputs": [
    {
     "data": {
      "text/plain": [
       "'\" It\\' s the last he painted, you know,\" Mrs. Gisburn said with pardonable pride.'"
      ]
     },
     "execution_count": 17,
     "metadata": {},
     "output_type": "execute_result"
    }
   ],
   "source": [
    "tokenizer.decode(tokenizer.encode(text))"
   ]
  },
  {
   "cell_type": "markdown",
   "id": "5bd5d519",
   "metadata": {
    "papermill": {
     "duration": 0.037497,
     "end_time": "2024-04-01T08:55:26.401922",
     "exception": false,
     "start_time": "2024-04-01T08:55:26.364425",
     "status": "completed"
    },
    "tags": []
   },
   "source": [
    "## 2.4 Adding special context tokens"
   ]
  },
  {
   "cell_type": "markdown",
   "id": "15005366",
   "metadata": {
    "papermill": {
     "duration": 0.035404,
     "end_time": "2024-04-01T08:55:26.473586",
     "exception": false,
     "start_time": "2024-04-01T08:55:26.438182",
     "status": "completed"
    },
    "tags": []
   },
   "source": [
    "- It's useful to add some \"special\" tokens for unknown words and to denote the end of a text"
   ]
  },
  {
   "cell_type": "markdown",
   "id": "c53591cb",
   "metadata": {
    "papermill": {
     "duration": 0.035715,
     "end_time": "2024-04-01T08:55:26.545217",
     "exception": false,
     "start_time": "2024-04-01T08:55:26.509502",
     "status": "completed"
    },
    "tags": []
   },
   "source": [
    "<img src=\"https://sebastianraschka.com/images/LLMs-from-scratch-images/ch02_compressed/09.webp\" width=\"500px\">"
   ]
  },
  {
   "cell_type": "markdown",
   "id": "e1d5d866",
   "metadata": {
    "papermill": {
     "duration": 0.035571,
     "end_time": "2024-04-01T08:55:26.616584",
     "exception": false,
     "start_time": "2024-04-01T08:55:26.581013",
     "status": "completed"
    },
    "tags": []
   },
   "source": [
    "- Some tokenizers use special tokens to help the LLM with additional context\n",
    "- Some of these special tokens are\n",
    "  - `[BOS]` (beginning of sequence) marks the beginning of text\n",
    "  - `[EOS]` (end of sequence) marks where the text ends (this is usually used to concatenate multiple unrelated texts, e.g., two different Wikipedia articles or two different books, and so on)\n",
    "  - `[PAD]` (padding) if we train LLMs with a batch size greater than 1 (we may include multiple texts with different lengths; with the padding token we pad the shorter texts to the longest length so that all texts have an equal length)\n",
    "- `[UNK]` to represent works that are not included in the vocabulary\n",
    "\n",
    "- Note that GPT-2 does not need any of these tokens mentioned above but only uses an `<|endoftext|>` token to reduce complexity\n",
    "- The  `<|endoftext|>` is analogous to the `[EOS]` token mentioned above\n",
    "- GPT also uses the `<|endoftext|>` for padding (since we typically use a mask when training on batched inputs, we would not attend padded tokens anyways, so it does not matter what these tokens are)\n",
    "- GPT-2 does not use an `<UNK>` token for out-of-vocabulary words; instead, GPT-2 uses a byte-pair encoding (BPE) tokenizer, which breaks down words into subword units which we will discuss in a later section\n",
    "\n"
   ]
  },
  {
   "cell_type": "markdown",
   "id": "f406d57a",
   "metadata": {
    "papermill": {
     "duration": 0.035557,
     "end_time": "2024-04-01T08:55:26.688102",
     "exception": false,
     "start_time": "2024-04-01T08:55:26.652545",
     "status": "completed"
    },
    "tags": []
   },
   "source": [
    "- We use the `<|endoftext|>` tokens between two independent sources of text:"
   ]
  },
  {
   "cell_type": "markdown",
   "id": "934955dd",
   "metadata": {
    "papermill": {
     "duration": 0.035759,
     "end_time": "2024-04-01T08:55:26.759702",
     "exception": false,
     "start_time": "2024-04-01T08:55:26.723943",
     "status": "completed"
    },
    "tags": []
   },
   "source": [
    "<img src=\"https://sebastianraschka.com/images/LLMs-from-scratch-images/ch02_compressed/10.webp\" width=\"500px\">"
   ]
  },
  {
   "cell_type": "markdown",
   "id": "c28cd836",
   "metadata": {
    "papermill": {
     "duration": 0.035741,
     "end_time": "2024-04-01T08:55:26.832388",
     "exception": false,
     "start_time": "2024-04-01T08:55:26.796647",
     "status": "completed"
    },
    "tags": []
   },
   "source": [
    "- Let's see what happens if we tokenize the following text:"
   ]
  },
  {
   "cell_type": "code",
   "execution_count": 18,
   "id": "ac410770",
   "metadata": {
    "execution": {
     "iopub.execute_input": "2024-04-01T08:55:26.912827Z",
     "iopub.status.busy": "2024-04-01T08:55:26.912086Z",
     "iopub.status.idle": "2024-04-01T08:55:26.916359Z",
     "shell.execute_reply": "2024-04-01T08:55:26.915544Z"
    },
    "papermill": {
     "duration": 0.050294,
     "end_time": "2024-04-01T08:55:26.918978",
     "exception": false,
     "start_time": "2024-04-01T08:55:26.868684",
     "status": "completed"
    },
    "tags": []
   },
   "outputs": [],
   "source": [
    "# tokenizer = SimpleTokenizerV1(vocab)\n",
    "\n",
    "# text = \"Hello, do you like tea. Is this-- a test?\"\n",
    "\n",
    "# tokenizer.encode(text)"
   ]
  },
  {
   "cell_type": "markdown",
   "id": "b05bb0aa",
   "metadata": {
    "papermill": {
     "duration": 0.035729,
     "end_time": "2024-04-01T08:55:26.991141",
     "exception": false,
     "start_time": "2024-04-01T08:55:26.955412",
     "status": "completed"
    },
    "tags": []
   },
   "source": [
    "- The above produces an error because the word \"Hello\" is not contained in the vocabulary\n",
    "- To deal with such cases, we can add special tokens like `\"<|unk|>\"` to the vocabulary to represent unknown words\n",
    "- Since we are already extending the vocabulary, let's add another token called `\"<|endoftext|>\"` which is used in GPT-2 training to denote the end of a text (and it's also used between concatenated text, like if our training datasets consists of multiple articles, books, etc.)"
   ]
  },
  {
   "cell_type": "code",
   "execution_count": 19,
   "id": "4181c81f",
   "metadata": {
    "execution": {
     "iopub.execute_input": "2024-04-01T08:55:27.091453Z",
     "iopub.status.busy": "2024-04-01T08:55:27.090433Z",
     "iopub.status.idle": "2024-04-01T08:55:27.104505Z",
     "shell.execute_reply": "2024-04-01T08:55:27.103573Z"
    },
    "papermill": {
     "duration": 0.065831,
     "end_time": "2024-04-01T08:55:27.107188",
     "exception": false,
     "start_time": "2024-04-01T08:55:27.041357",
     "status": "completed"
    },
    "tags": []
   },
   "outputs": [],
   "source": [
    "preprocessed = re.split(r'([,.?_!\"()\\']|--|\\s)', raw_text)\n",
    "preprocessed = [item.strip() for item in preprocessed if item.strip()]\n",
    "\n",
    "all_tokens = sorted(list(set(preprocessed)))\n",
    "all_tokens.extend([\"<|endoftext|>\", \"<|unk|>\"])\n",
    "\n",
    "vocab = {token:integer for integer,token in enumerate(all_tokens)}"
   ]
  },
  {
   "cell_type": "code",
   "execution_count": 20,
   "id": "70229b97",
   "metadata": {
    "execution": {
     "iopub.execute_input": "2024-04-01T08:55:27.180816Z",
     "iopub.status.busy": "2024-04-01T08:55:27.180374Z",
     "iopub.status.idle": "2024-04-01T08:55:27.187775Z",
     "shell.execute_reply": "2024-04-01T08:55:27.186488Z"
    },
    "papermill": {
     "duration": 0.046994,
     "end_time": "2024-04-01T08:55:27.190266",
     "exception": false,
     "start_time": "2024-04-01T08:55:27.143272",
     "status": "completed"
    },
    "tags": []
   },
   "outputs": [
    {
     "data": {
      "text/plain": [
       "1161"
      ]
     },
     "execution_count": 20,
     "metadata": {},
     "output_type": "execute_result"
    }
   ],
   "source": [
    "len(vocab.items())"
   ]
  },
  {
   "cell_type": "code",
   "execution_count": 21,
   "id": "770c842d",
   "metadata": {
    "execution": {
     "iopub.execute_input": "2024-04-01T08:55:27.265184Z",
     "iopub.status.busy": "2024-04-01T08:55:27.264789Z",
     "iopub.status.idle": "2024-04-01T08:55:27.271613Z",
     "shell.execute_reply": "2024-04-01T08:55:27.270277Z"
    },
    "papermill": {
     "duration": 0.048685,
     "end_time": "2024-04-01T08:55:27.275069",
     "exception": false,
     "start_time": "2024-04-01T08:55:27.226384",
     "status": "completed"
    },
    "tags": []
   },
   "outputs": [
    {
     "name": "stdout",
     "output_type": "stream",
     "text": [
      "('younger', 1156)\n",
      "('your', 1157)\n",
      "('yourself', 1158)\n",
      "('<|endoftext|>', 1159)\n",
      "('<|unk|>', 1160)\n"
     ]
    }
   ],
   "source": [
    "for i, item in enumerate(list(vocab.items())[-5:]):\n",
    "    print(item)"
   ]
  },
  {
   "cell_type": "markdown",
   "id": "2edc85e4",
   "metadata": {
    "papermill": {
     "duration": 0.036074,
     "end_time": "2024-04-01T08:55:27.347692",
     "exception": false,
     "start_time": "2024-04-01T08:55:27.311618",
     "status": "completed"
    },
    "tags": []
   },
   "source": [
    "- We also need to adjust the tokenizer accordingly so that it knows when and how to use the new `<unk>` token"
   ]
  },
  {
   "cell_type": "code",
   "execution_count": 22,
   "id": "df9127a4",
   "metadata": {
    "execution": {
     "iopub.execute_input": "2024-04-01T08:55:27.423044Z",
     "iopub.status.busy": "2024-04-01T08:55:27.422638Z",
     "iopub.status.idle": "2024-04-01T08:55:27.431641Z",
     "shell.execute_reply": "2024-04-01T08:55:27.430729Z"
    },
    "papermill": {
     "duration": 0.049618,
     "end_time": "2024-04-01T08:55:27.433916",
     "exception": false,
     "start_time": "2024-04-01T08:55:27.384298",
     "status": "completed"
    },
    "tags": []
   },
   "outputs": [],
   "source": [
    "class SimpleTokenizerV2:\n",
    "    def __init__(self, vocab):\n",
    "        self.str_to_int = vocab\n",
    "        self.int_to_str = { i:s for s,i in vocab.items()}\n",
    "    \n",
    "    def encode(self, text):\n",
    "        preprocessed = re.split(r'([,.?_!\"()\\']|--|\\s)', text)\n",
    "        preprocessed = [item.strip() for item in preprocessed if item.strip()]\n",
    "        preprocessed = [item if item in self.str_to_int \n",
    "                        else \"<|unk|>\" for item in preprocessed]\n",
    "\n",
    "        ids = [self.str_to_int[s] for s in preprocessed]\n",
    "        return ids\n",
    "        \n",
    "    def decode(self, ids):\n",
    "        text = \" \".join([self.int_to_str[i] for i in ids])\n",
    "        # Replace spaces before the specified punctuations\n",
    "        text = re.sub(r'\\s+([,.?!\"()\\'])', r'\\1', text)\n",
    "        return text"
   ]
  },
  {
   "cell_type": "markdown",
   "id": "a0d158c9",
   "metadata": {
    "papermill": {
     "duration": 0.036531,
     "end_time": "2024-04-01T08:55:27.507341",
     "exception": false,
     "start_time": "2024-04-01T08:55:27.470810",
     "status": "completed"
    },
    "tags": []
   },
   "source": [
    "Let's try to tokenize text with the modified tokenizer:"
   ]
  },
  {
   "cell_type": "code",
   "execution_count": 23,
   "id": "2e632511",
   "metadata": {
    "execution": {
     "iopub.execute_input": "2024-04-01T08:55:27.581297Z",
     "iopub.status.busy": "2024-04-01T08:55:27.580885Z",
     "iopub.status.idle": "2024-04-01T08:55:27.587657Z",
     "shell.execute_reply": "2024-04-01T08:55:27.586356Z"
    },
    "papermill": {
     "duration": 0.046867,
     "end_time": "2024-04-01T08:55:27.590307",
     "exception": false,
     "start_time": "2024-04-01T08:55:27.543440",
     "status": "completed"
    },
    "tags": []
   },
   "outputs": [
    {
     "name": "stdout",
     "output_type": "stream",
     "text": [
      "Hello, do you like tea? <|endoftext|> In the sunlit terraces of the palace.\n"
     ]
    }
   ],
   "source": [
    "tokenizer = SimpleTokenizerV2(vocab)\n",
    "\n",
    "text1 = \"Hello, do you like tea?\"\n",
    "text2 = \"In the sunlit terraces of the palace.\"\n",
    "\n",
    "text = \" <|endoftext|> \".join((text1, text2))\n",
    "\n",
    "print(text)"
   ]
  },
  {
   "cell_type": "code",
   "execution_count": 24,
   "id": "a7032275",
   "metadata": {
    "execution": {
     "iopub.execute_input": "2024-04-01T08:55:27.665063Z",
     "iopub.status.busy": "2024-04-01T08:55:27.664671Z",
     "iopub.status.idle": "2024-04-01T08:55:27.672509Z",
     "shell.execute_reply": "2024-04-01T08:55:27.671415Z"
    },
    "papermill": {
     "duration": 0.048647,
     "end_time": "2024-04-01T08:55:27.674917",
     "exception": false,
     "start_time": "2024-04-01T08:55:27.626270",
     "status": "completed"
    },
    "tags": []
   },
   "outputs": [
    {
     "data": {
      "text/plain": [
       "[1160,\n",
       " 5,\n",
       " 362,\n",
       " 1155,\n",
       " 642,\n",
       " 1000,\n",
       " 10,\n",
       " 1159,\n",
       " 57,\n",
       " 1013,\n",
       " 981,\n",
       " 1009,\n",
       " 738,\n",
       " 1013,\n",
       " 1160,\n",
       " 7]"
      ]
     },
     "execution_count": 24,
     "metadata": {},
     "output_type": "execute_result"
    }
   ],
   "source": [
    "tokenizer.encode(text)"
   ]
  },
  {
   "cell_type": "code",
   "execution_count": 25,
   "id": "7ea3e439",
   "metadata": {
    "execution": {
     "iopub.execute_input": "2024-04-01T08:55:27.750679Z",
     "iopub.status.busy": "2024-04-01T08:55:27.750277Z",
     "iopub.status.idle": "2024-04-01T08:55:27.756495Z",
     "shell.execute_reply": "2024-04-01T08:55:27.755206Z"
    },
    "papermill": {
     "duration": 0.047354,
     "end_time": "2024-04-01T08:55:27.758781",
     "exception": false,
     "start_time": "2024-04-01T08:55:27.711427",
     "status": "completed"
    },
    "tags": []
   },
   "outputs": [
    {
     "data": {
      "text/plain": [
       "'<|unk|>, do you like tea? <|endoftext|> In the sunlit terraces of the <|unk|>.'"
      ]
     },
     "execution_count": 25,
     "metadata": {},
     "output_type": "execute_result"
    }
   ],
   "source": [
    "tokenizer.decode(tokenizer.encode(text))"
   ]
  },
  {
   "cell_type": "markdown",
   "id": "08de2d06",
   "metadata": {
    "papermill": {
     "duration": 0.036687,
     "end_time": "2024-04-01T08:55:27.832866",
     "exception": false,
     "start_time": "2024-04-01T08:55:27.796179",
     "status": "completed"
    },
    "tags": []
   },
   "source": [
    "## 2.5 BytePair encoding"
   ]
  },
  {
   "cell_type": "markdown",
   "id": "c7ec8578",
   "metadata": {
    "papermill": {
     "duration": 0.037169,
     "end_time": "2024-04-01T08:55:27.907231",
     "exception": false,
     "start_time": "2024-04-01T08:55:27.870062",
     "status": "completed"
    },
    "tags": []
   },
   "source": [
    "- GPT-2 used BytePair encoding (BPE) as its tokenizer\n",
    "- it allows the model to break down words that aren't in its predefined vocabulary into smaller subword units or even individual characters, enabling it to handle out-of-vocabulary words\n",
    "- For instance, if GPT-2's vocabulary doesn't have the word \"unfamiliarword,\" it might tokenize it as [\"unfam\", \"iliar\", \"word\"] or some other subword breakdown, depending on its trained BPE merges\n",
    "- The original BPE tokenizer can be found here: [https://github.com/openai/gpt-2/blob/master/src/encoder.py](https://github.com/openai/gpt-2/blob/master/src/encoder.py)\n",
    "- In this chapter, we are using the BPE tokenizer from OpenAI's open-source [tiktoken](https://github.com/openai/tiktoken) library, which implements its core algorithms in Rust to improve computational performance\n",
    "- I created a notebook in the [./bytepair_encoder](../02_bonus_bytepair-encoder) that compares these two implementations side-by-side (tiktoken was about 5x faster on the sample text)"
   ]
  },
  {
   "cell_type": "code",
   "execution_count": 26,
   "id": "4dc4d735",
   "metadata": {
    "execution": {
     "iopub.execute_input": "2024-04-01T08:55:27.983358Z",
     "iopub.status.busy": "2024-04-01T08:55:27.982968Z",
     "iopub.status.idle": "2024-04-01T08:55:27.987840Z",
     "shell.execute_reply": "2024-04-01T08:55:27.986573Z"
    },
    "papermill": {
     "duration": 0.04591,
     "end_time": "2024-04-01T08:55:27.990233",
     "exception": false,
     "start_time": "2024-04-01T08:55:27.944323",
     "status": "completed"
    },
    "tags": []
   },
   "outputs": [],
   "source": [
    "# pip install tiktoken"
   ]
  },
  {
   "cell_type": "code",
   "execution_count": 27,
   "id": "8451f484",
   "metadata": {
    "execution": {
     "iopub.execute_input": "2024-04-01T08:55:28.066908Z",
     "iopub.status.busy": "2024-04-01T08:55:28.066518Z",
     "iopub.status.idle": "2024-04-01T08:55:28.072992Z",
     "shell.execute_reply": "2024-04-01T08:55:28.072075Z"
    },
    "papermill": {
     "duration": 0.047637,
     "end_time": "2024-04-01T08:55:28.075422",
     "exception": false,
     "start_time": "2024-04-01T08:55:28.027785",
     "status": "completed"
    },
    "tags": []
   },
   "outputs": [
    {
     "name": "stdout",
     "output_type": "stream",
     "text": [
      "tiktoken version: 0.6.0\n"
     ]
    }
   ],
   "source": [
    "import importlib\n",
    "import tiktoken\n",
    "\n",
    "print(\"tiktoken version:\", importlib.metadata.version(\"tiktoken\"))"
   ]
  },
  {
   "cell_type": "code",
   "execution_count": 28,
   "id": "09746aa9",
   "metadata": {
    "execution": {
     "iopub.execute_input": "2024-04-01T08:55:28.153166Z",
     "iopub.status.busy": "2024-04-01T08:55:28.152779Z",
     "iopub.status.idle": "2024-04-01T08:55:32.243020Z",
     "shell.execute_reply": "2024-04-01T08:55:32.241960Z"
    },
    "papermill": {
     "duration": 4.132738,
     "end_time": "2024-04-01T08:55:32.245971",
     "exception": false,
     "start_time": "2024-04-01T08:55:28.113233",
     "status": "completed"
    },
    "tags": []
   },
   "outputs": [],
   "source": [
    "tokenizer = tiktoken.get_encoding(\"gpt2\")"
   ]
  },
  {
   "cell_type": "code",
   "execution_count": 29,
   "id": "94c3a60f",
   "metadata": {
    "execution": {
     "iopub.execute_input": "2024-04-01T08:55:32.322850Z",
     "iopub.status.busy": "2024-04-01T08:55:32.322434Z",
     "iopub.status.idle": "2024-04-01T08:55:32.328658Z",
     "shell.execute_reply": "2024-04-01T08:55:32.327442Z"
    },
    "papermill": {
     "duration": 0.04759,
     "end_time": "2024-04-01T08:55:32.331576",
     "exception": false,
     "start_time": "2024-04-01T08:55:32.283986",
     "status": "completed"
    },
    "tags": []
   },
   "outputs": [
    {
     "name": "stdout",
     "output_type": "stream",
     "text": [
      "[15496, 11, 466, 345, 588, 8887, 30, 220, 50256, 554, 262, 4252, 18250, 8812, 2114, 286, 617, 34680, 27271, 13]\n"
     ]
    }
   ],
   "source": [
    "text = \"Hello, do you like tea? <|endoftext|> In the sunlit terraces of someunknownPlace.\"\n",
    "\n",
    "integers = tokenizer.encode(text, allowed_special={\"<|endoftext|>\"})\n",
    "\n",
    "print(integers)"
   ]
  },
  {
   "cell_type": "code",
   "execution_count": 30,
   "id": "00201ac6",
   "metadata": {
    "execution": {
     "iopub.execute_input": "2024-04-01T08:55:32.411112Z",
     "iopub.status.busy": "2024-04-01T08:55:32.410722Z",
     "iopub.status.idle": "2024-04-01T08:55:32.417050Z",
     "shell.execute_reply": "2024-04-01T08:55:32.415728Z"
    },
    "papermill": {
     "duration": 0.05139,
     "end_time": "2024-04-01T08:55:32.419612",
     "exception": false,
     "start_time": "2024-04-01T08:55:32.368222",
     "status": "completed"
    },
    "tags": []
   },
   "outputs": [
    {
     "name": "stdout",
     "output_type": "stream",
     "text": [
      "Hello, do you like tea? <|endoftext|> In the sunlit terraces of someunknownPlace.\n"
     ]
    }
   ],
   "source": [
    "strings = tokenizer.decode(integers)\n",
    "\n",
    "print(strings)"
   ]
  },
  {
   "cell_type": "markdown",
   "id": "17b1a80d",
   "metadata": {
    "papermill": {
     "duration": 0.037175,
     "end_time": "2024-04-01T08:55:32.494056",
     "exception": false,
     "start_time": "2024-04-01T08:55:32.456881",
     "status": "completed"
    },
    "tags": []
   },
   "source": [
    "- BPE tokenizers break down unknown words into subwords and individual characters:"
   ]
  },
  {
   "cell_type": "markdown",
   "id": "f7d55c1b",
   "metadata": {
    "papermill": {
     "duration": 0.037211,
     "end_time": "2024-04-01T08:55:32.569362",
     "exception": false,
     "start_time": "2024-04-01T08:55:32.532151",
     "status": "completed"
    },
    "tags": []
   },
   "source": [
    "<img src=\"https://sebastianraschka.com/images/LLMs-from-scratch-images/ch02_compressed/11.webp\" width=\"300px\">"
   ]
  },
  {
   "cell_type": "markdown",
   "id": "61cfcdd8",
   "metadata": {
    "papermill": {
     "duration": 0.037278,
     "end_time": "2024-04-01T08:55:32.644577",
     "exception": false,
     "start_time": "2024-04-01T08:55:32.607299",
     "status": "completed"
    },
    "tags": []
   },
   "source": [
    "## 2.6 Data sampling with a sliding window"
   ]
  },
  {
   "cell_type": "markdown",
   "id": "42c1d650",
   "metadata": {
    "papermill": {
     "duration": 0.036757,
     "end_time": "2024-04-01T08:55:32.718644",
     "exception": false,
     "start_time": "2024-04-01T08:55:32.681887",
     "status": "completed"
    },
    "tags": []
   },
   "source": [
    "- We train LLMs to generate one word at a time, so we want to prepare the training data accordingly where the next word in a sequence represents the target to predict:"
   ]
  },
  {
   "cell_type": "markdown",
   "id": "2c19849e",
   "metadata": {
    "papermill": {
     "duration": 0.038281,
     "end_time": "2024-04-01T08:55:32.793770",
     "exception": false,
     "start_time": "2024-04-01T08:55:32.755489",
     "status": "completed"
    },
    "tags": []
   },
   "source": [
    "<img src=\"https://sebastianraschka.com/images/LLMs-from-scratch-images/ch02_compressed/12.webp\" width=\"400px\">"
   ]
  },
  {
   "cell_type": "code",
   "execution_count": 31,
   "id": "3f2a37ad",
   "metadata": {
    "execution": {
     "iopub.execute_input": "2024-04-01T08:55:32.869789Z",
     "iopub.status.busy": "2024-04-01T08:55:32.869372Z",
     "iopub.status.idle": "2024-04-01T08:55:32.883924Z",
     "shell.execute_reply": "2024-04-01T08:55:32.882356Z"
    },
    "papermill": {
     "duration": 0.055562,
     "end_time": "2024-04-01T08:55:32.886427",
     "exception": false,
     "start_time": "2024-04-01T08:55:32.830865",
     "status": "completed"
    },
    "tags": []
   },
   "outputs": [
    {
     "name": "stdout",
     "output_type": "stream",
     "text": [
      "5145\n"
     ]
    }
   ],
   "source": [
    "with open(\"/kaggle/input/verdict-nlp/the-verdict.txt\", \"r\", encoding=\"utf-8\") as f:\n",
    "    raw_text = f.read()\n",
    "\n",
    "enc_text = tokenizer.encode(raw_text)\n",
    "print(len(enc_text))"
   ]
  },
  {
   "cell_type": "markdown",
   "id": "7532df7f",
   "metadata": {
    "papermill": {
     "duration": 0.036634,
     "end_time": "2024-04-01T08:55:32.960147",
     "exception": false,
     "start_time": "2024-04-01T08:55:32.923513",
     "status": "completed"
    },
    "tags": []
   },
   "source": [
    "- For each text chunk, we want the inputs and targets\n",
    "- Since we want the model to predict the next word, the targets are the inputs shifted by one position to the right"
   ]
  },
  {
   "cell_type": "code",
   "execution_count": 32,
   "id": "dda992b0",
   "metadata": {
    "execution": {
     "iopub.execute_input": "2024-04-01T08:55:33.037709Z",
     "iopub.status.busy": "2024-04-01T08:55:33.037283Z",
     "iopub.status.idle": "2024-04-01T08:55:33.043549Z",
     "shell.execute_reply": "2024-04-01T08:55:33.041717Z"
    },
    "papermill": {
     "duration": 0.048301,
     "end_time": "2024-04-01T08:55:33.046281",
     "exception": false,
     "start_time": "2024-04-01T08:55:32.997980",
     "status": "completed"
    },
    "tags": []
   },
   "outputs": [],
   "source": [
    "enc_sample = enc_text[50:]"
   ]
  },
  {
   "cell_type": "code",
   "execution_count": 33,
   "id": "57512898",
   "metadata": {
    "execution": {
     "iopub.execute_input": "2024-04-01T08:55:33.123141Z",
     "iopub.status.busy": "2024-04-01T08:55:33.122318Z",
     "iopub.status.idle": "2024-04-01T08:55:33.128584Z",
     "shell.execute_reply": "2024-04-01T08:55:33.127693Z"
    },
    "papermill": {
     "duration": 0.047596,
     "end_time": "2024-04-01T08:55:33.131029",
     "exception": false,
     "start_time": "2024-04-01T08:55:33.083433",
     "status": "completed"
    },
    "tags": []
   },
   "outputs": [
    {
     "name": "stdout",
     "output_type": "stream",
     "text": [
      "x: [290, 4920, 2241, 287]\n",
      "y:      [4920, 2241, 287, 257]\n"
     ]
    }
   ],
   "source": [
    "context_size = 4\n",
    "\n",
    "x = enc_sample[:context_size]\n",
    "y = enc_sample[1:context_size+1]\n",
    "\n",
    "print(f\"x: {x}\")\n",
    "print(f\"y:      {y}\")"
   ]
  },
  {
   "cell_type": "markdown",
   "id": "722b58d5",
   "metadata": {
    "papermill": {
     "duration": 0.038079,
     "end_time": "2024-04-01T08:55:33.206408",
     "exception": false,
     "start_time": "2024-04-01T08:55:33.168329",
     "status": "completed"
    },
    "tags": []
   },
   "source": [
    "- One by one, the prediction would look like as follows:"
   ]
  },
  {
   "cell_type": "code",
   "execution_count": 34,
   "id": "9ee61d0b",
   "metadata": {
    "execution": {
     "iopub.execute_input": "2024-04-01T08:55:33.282819Z",
     "iopub.status.busy": "2024-04-01T08:55:33.282412Z",
     "iopub.status.idle": "2024-04-01T08:55:33.288731Z",
     "shell.execute_reply": "2024-04-01T08:55:33.287396Z"
    },
    "papermill": {
     "duration": 0.04829,
     "end_time": "2024-04-01T08:55:33.291542",
     "exception": false,
     "start_time": "2024-04-01T08:55:33.243252",
     "status": "completed"
    },
    "tags": []
   },
   "outputs": [
    {
     "name": "stdout",
     "output_type": "stream",
     "text": [
      "[290] ----> 4920\n",
      "[290, 4920] ----> 2241\n",
      "[290, 4920, 2241] ----> 287\n",
      "[290, 4920, 2241, 287] ----> 257\n"
     ]
    }
   ],
   "source": [
    "for i in range(1, context_size+1):\n",
    "    context = enc_sample[:i]\n",
    "    desired = enc_sample[i]\n",
    "\n",
    "    print(context, \"---->\", desired)"
   ]
  },
  {
   "cell_type": "code",
   "execution_count": 35,
   "id": "71b3bc1b",
   "metadata": {
    "execution": {
     "iopub.execute_input": "2024-04-01T08:55:33.372091Z",
     "iopub.status.busy": "2024-04-01T08:55:33.371713Z",
     "iopub.status.idle": "2024-04-01T08:55:33.378241Z",
     "shell.execute_reply": "2024-04-01T08:55:33.377055Z"
    },
    "papermill": {
     "duration": 0.050598,
     "end_time": "2024-04-01T08:55:33.381084",
     "exception": false,
     "start_time": "2024-04-01T08:55:33.330486",
     "status": "completed"
    },
    "tags": []
   },
   "outputs": [
    {
     "name": "stdout",
     "output_type": "stream",
     "text": [
      " and ---->  established\n",
      " and established ---->  himself\n",
      " and established himself ---->  in\n",
      " and established himself in ---->  a\n"
     ]
    }
   ],
   "source": [
    "for i in range(1, context_size+1):\n",
    "    context = enc_sample[:i]\n",
    "    desired = enc_sample[i]\n",
    "\n",
    "    print(tokenizer.decode(context), \"---->\", tokenizer.decode([desired]))"
   ]
  },
  {
   "cell_type": "markdown",
   "id": "f3bf5f47",
   "metadata": {
    "papermill": {
     "duration": 0.036548,
     "end_time": "2024-04-01T08:55:33.455687",
     "exception": false,
     "start_time": "2024-04-01T08:55:33.419139",
     "status": "completed"
    },
    "tags": []
   },
   "source": [
    "- We will take care of the next-word prediction in a later chapter after we covered the attention mechanism\n",
    "- For now, we implement a simple data loader that iterates over the input dataset and returns the inputs and targets shifted by one"
   ]
  },
  {
   "cell_type": "markdown",
   "id": "b87e9ebe",
   "metadata": {
    "papermill": {
     "duration": 0.036735,
     "end_time": "2024-04-01T08:55:33.529647",
     "exception": false,
     "start_time": "2024-04-01T08:55:33.492912",
     "status": "completed"
    },
    "tags": []
   },
   "source": [
    "- Install and import PyTorch (see Appendix A for installation tips)"
   ]
  },
  {
   "cell_type": "code",
   "execution_count": 36,
   "id": "3722efd1",
   "metadata": {
    "execution": {
     "iopub.execute_input": "2024-04-01T08:55:33.607180Z",
     "iopub.status.busy": "2024-04-01T08:55:33.606775Z",
     "iopub.status.idle": "2024-04-01T08:55:33.612049Z",
     "shell.execute_reply": "2024-04-01T08:55:33.610945Z"
    },
    "papermill": {
     "duration": 0.048055,
     "end_time": "2024-04-01T08:55:33.614631",
     "exception": false,
     "start_time": "2024-04-01T08:55:33.566576",
     "status": "completed"
    },
    "tags": []
   },
   "outputs": [
    {
     "name": "stdout",
     "output_type": "stream",
     "text": [
      "PyTorch version: 2.1.2+cpu\n"
     ]
    }
   ],
   "source": [
    "import torch\n",
    "print(\"PyTorch version:\", torch.__version__)"
   ]
  },
  {
   "cell_type": "markdown",
   "id": "9e632670",
   "metadata": {
    "papermill": {
     "duration": 0.037424,
     "end_time": "2024-04-01T08:55:33.690055",
     "exception": false,
     "start_time": "2024-04-01T08:55:33.652631",
     "status": "completed"
    },
    "tags": []
   },
   "source": [
    "- We use a sliding window approach where we slide the window one word at a time (this is also known as `stride=1`):\n",
    "\n",
    "<img src=\"https://sebastianraschka.com/images/LLMs-from-scratch-images/ch02_compressed/13.webp\" width=\"500px\">"
   ]
  },
  {
   "cell_type": "markdown",
   "id": "c310b236",
   "metadata": {
    "papermill": {
     "duration": 0.036859,
     "end_time": "2024-04-01T08:55:33.764522",
     "exception": false,
     "start_time": "2024-04-01T08:55:33.727663",
     "status": "completed"
    },
    "tags": []
   },
   "source": [
    "- Create dataset and dataloader that extract chunks from the input text dataset"
   ]
  },
  {
   "cell_type": "code",
   "execution_count": 37,
   "id": "a1541cea",
   "metadata": {
    "execution": {
     "iopub.execute_input": "2024-04-01T08:55:33.841523Z",
     "iopub.status.busy": "2024-04-01T08:55:33.841089Z",
     "iopub.status.idle": "2024-04-01T08:55:33.852206Z",
     "shell.execute_reply": "2024-04-01T08:55:33.850520Z"
    },
    "papermill": {
     "duration": 0.053126,
     "end_time": "2024-04-01T08:55:33.854973",
     "exception": false,
     "start_time": "2024-04-01T08:55:33.801847",
     "status": "completed"
    },
    "tags": []
   },
   "outputs": [],
   "source": [
    "from torch.utils.data import Dataset, DataLoader\n",
    "\n",
    "\n",
    "class GPTDatasetV1(Dataset):\n",
    "    def __init__(self, txt, tokenizer, max_length, stride):\n",
    "        self.tokenizer = tokenizer\n",
    "        self.input_ids = []\n",
    "        self.target_ids = []\n",
    "\n",
    "        # Tokenize the entire text\n",
    "        token_ids = tokenizer.encode(txt, allowed_special={'<|endoftext|>'})\n",
    "\n",
    "        # Use a sliding window to chunk the book into overlapping sequences of max_length\n",
    "        for i in range(0, len(token_ids) - max_length, stride):\n",
    "            input_chunk = token_ids[i:i + max_length]\n",
    "            target_chunk = token_ids[i + 1: i + max_length + 1]\n",
    "            self.input_ids.append(torch.tensor(input_chunk))\n",
    "            self.target_ids.append(torch.tensor(target_chunk))\n",
    "\n",
    "    def __len__(self):\n",
    "        return len(self.input_ids)\n",
    "\n",
    "    def __getitem__(self, idx):\n",
    "        return self.input_ids[idx], self.target_ids[idx]"
   ]
  },
  {
   "cell_type": "code",
   "execution_count": 38,
   "id": "4eb79ceb",
   "metadata": {
    "execution": {
     "iopub.execute_input": "2024-04-01T08:55:33.933016Z",
     "iopub.status.busy": "2024-04-01T08:55:33.932598Z",
     "iopub.status.idle": "2024-04-01T08:55:33.939135Z",
     "shell.execute_reply": "2024-04-01T08:55:33.938045Z"
    },
    "papermill": {
     "duration": 0.048262,
     "end_time": "2024-04-01T08:55:33.941345",
     "exception": false,
     "start_time": "2024-04-01T08:55:33.893083",
     "status": "completed"
    },
    "tags": []
   },
   "outputs": [],
   "source": [
    "def create_dataloader_v1(txt, batch_size=4, max_length=256, stride=128, shuffle=True, drop_last=True):\n",
    "\n",
    "    # Initialize the tokenizer\n",
    "    tokenizer = tiktoken.get_encoding(\"gpt2\")\n",
    "\n",
    "    # Create dataset\n",
    "    dataset = GPTDatasetV1(txt, tokenizer, max_length, stride)\n",
    "\n",
    "    # Create dataloader\n",
    "    dataloader = DataLoader(\n",
    "        dataset, batch_size=batch_size, shuffle=shuffle, drop_last=drop_last)\n",
    "\n",
    "    return dataloader"
   ]
  },
  {
   "cell_type": "markdown",
   "id": "3f31a3b4",
   "metadata": {
    "papermill": {
     "duration": 0.037658,
     "end_time": "2024-04-01T08:55:34.016485",
     "exception": false,
     "start_time": "2024-04-01T08:55:33.978827",
     "status": "completed"
    },
    "tags": []
   },
   "source": [
    "- Let's test the dataloader with a batch size of 1 for an LLM with a context size of 4:"
   ]
  },
  {
   "cell_type": "code",
   "execution_count": 39,
   "id": "000b2da9",
   "metadata": {
    "execution": {
     "iopub.execute_input": "2024-04-01T08:55:34.096624Z",
     "iopub.status.busy": "2024-04-01T08:55:34.096172Z",
     "iopub.status.idle": "2024-04-01T08:55:34.101448Z",
     "shell.execute_reply": "2024-04-01T08:55:34.100573Z"
    },
    "papermill": {
     "duration": 0.04726,
     "end_time": "2024-04-01T08:55:34.103824",
     "exception": false,
     "start_time": "2024-04-01T08:55:34.056564",
     "status": "completed"
    },
    "tags": []
   },
   "outputs": [],
   "source": [
    "with open(\"/kaggle/input/verdict-nlp/the-verdict.txt\", \"r\", encoding=\"utf-8\") as f:\n",
    "    raw_text = f.read()"
   ]
  },
  {
   "cell_type": "code",
   "execution_count": 40,
   "id": "e01d394a",
   "metadata": {
    "execution": {
     "iopub.execute_input": "2024-04-01T08:55:34.181310Z",
     "iopub.status.busy": "2024-04-01T08:55:34.180286Z",
     "iopub.status.idle": "2024-04-01T08:55:34.339693Z",
     "shell.execute_reply": "2024-04-01T08:55:34.338349Z"
    },
    "papermill": {
     "duration": 0.200871,
     "end_time": "2024-04-01T08:55:34.342317",
     "exception": false,
     "start_time": "2024-04-01T08:55:34.141446",
     "status": "completed"
    },
    "tags": []
   },
   "outputs": [
    {
     "name": "stdout",
     "output_type": "stream",
     "text": [
      "[tensor([[  40,  367, 2885, 1464]]), tensor([[ 367, 2885, 1464, 1807]])]\n"
     ]
    }
   ],
   "source": [
    "dataloader = create_dataloader_v1(raw_text, batch_size=1, max_length=4, stride=1, shuffle=False)\n",
    "\n",
    "data_iter = iter(dataloader)\n",
    "first_batch = next(data_iter)\n",
    "print(first_batch)"
   ]
  },
  {
   "cell_type": "code",
   "execution_count": 41,
   "id": "d77d45a0",
   "metadata": {
    "execution": {
     "iopub.execute_input": "2024-04-01T08:55:34.421370Z",
     "iopub.status.busy": "2024-04-01T08:55:34.420938Z",
     "iopub.status.idle": "2024-04-01T08:55:34.427759Z",
     "shell.execute_reply": "2024-04-01T08:55:34.426261Z"
    },
    "papermill": {
     "duration": 0.049054,
     "end_time": "2024-04-01T08:55:34.430409",
     "exception": false,
     "start_time": "2024-04-01T08:55:34.381355",
     "status": "completed"
    },
    "tags": []
   },
   "outputs": [
    {
     "name": "stdout",
     "output_type": "stream",
     "text": [
      "[tensor([[ 367, 2885, 1464, 1807]]), tensor([[2885, 1464, 1807, 3619]])]\n"
     ]
    }
   ],
   "source": [
    "second_batch = next(data_iter)\n",
    "print(second_batch)"
   ]
  },
  {
   "cell_type": "markdown",
   "id": "b16e90ec",
   "metadata": {
    "papermill": {
     "duration": 0.037687,
     "end_time": "2024-04-01T08:55:34.505678",
     "exception": false,
     "start_time": "2024-04-01T08:55:34.467991",
     "status": "completed"
    },
    "tags": []
   },
   "source": [
    "- An example using stride equal to the context length (here: 4) as shown below:"
   ]
  },
  {
   "cell_type": "markdown",
   "id": "58b8490e",
   "metadata": {
    "papermill": {
     "duration": 0.037015,
     "end_time": "2024-04-01T08:55:34.580040",
     "exception": false,
     "start_time": "2024-04-01T08:55:34.543025",
     "status": "completed"
    },
    "tags": []
   },
   "source": [
    "<img src=\"https://sebastianraschka.com/images/LLMs-from-scratch-images/ch02_compressed/14.webp\" width=\"500px\">"
   ]
  },
  {
   "cell_type": "markdown",
   "id": "89c194f8",
   "metadata": {
    "papermill": {
     "duration": 0.038526,
     "end_time": "2024-04-01T08:55:34.656138",
     "exception": false,
     "start_time": "2024-04-01T08:55:34.617612",
     "status": "completed"
    },
    "tags": []
   },
   "source": [
    "- We can also create batched outputs\n",
    "- Note that we increase the stride here so that we don't have overlaps between the batches, since more overlap could lead to increased overfitting"
   ]
  },
  {
   "cell_type": "code",
   "execution_count": 42,
   "id": "0f52b787",
   "metadata": {
    "execution": {
     "iopub.execute_input": "2024-04-01T08:55:34.735162Z",
     "iopub.status.busy": "2024-04-01T08:55:34.734781Z",
     "iopub.status.idle": "2024-04-01T08:55:34.780933Z",
     "shell.execute_reply": "2024-04-01T08:55:34.779381Z"
    },
    "papermill": {
     "duration": 0.087789,
     "end_time": "2024-04-01T08:55:34.783531",
     "exception": false,
     "start_time": "2024-04-01T08:55:34.695742",
     "status": "completed"
    },
    "tags": []
   },
   "outputs": [
    {
     "name": "stdout",
     "output_type": "stream",
     "text": [
      "Inputs:\n",
      " tensor([[   40,   367,  2885,  1464],\n",
      "        [ 1807,  3619,   402,   271],\n",
      "        [10899,  2138,   257,  7026],\n",
      "        [15632,   438,  2016,   257],\n",
      "        [  922,  5891,  1576,   438],\n",
      "        [  568,   340,   373,   645],\n",
      "        [ 1049,  5975,   284,   502],\n",
      "        [  284,  3285,   326,    11]])\n",
      "\n",
      "Targets:\n",
      " tensor([[  367,  2885,  1464,  1807],\n",
      "        [ 3619,   402,   271, 10899],\n",
      "        [ 2138,   257,  7026, 15632],\n",
      "        [  438,  2016,   257,   922],\n",
      "        [ 5891,  1576,   438,   568],\n",
      "        [  340,   373,   645,  1049],\n",
      "        [ 5975,   284,   502,   284],\n",
      "        [ 3285,   326,    11,   287]])\n"
     ]
    }
   ],
   "source": [
    "dataloader = create_dataloader_v1(raw_text, batch_size=8, max_length=4, stride=4, shuffle=False)\n",
    "\n",
    "data_iter = iter(dataloader)\n",
    "inputs, targets = next(data_iter)\n",
    "print(\"Inputs:\\n\", inputs)\n",
    "print(\"\\nTargets:\\n\", targets)"
   ]
  },
  {
   "cell_type": "markdown",
   "id": "3c1e714a",
   "metadata": {
    "papermill": {
     "duration": 0.037961,
     "end_time": "2024-04-01T08:55:34.859143",
     "exception": false,
     "start_time": "2024-04-01T08:55:34.821182",
     "status": "completed"
    },
    "tags": []
   },
   "source": [
    "## 2.7 Creating token embeddings"
   ]
  },
  {
   "cell_type": "markdown",
   "id": "21bb55f1",
   "metadata": {
    "papermill": {
     "duration": 0.038089,
     "end_time": "2024-04-01T08:55:34.937065",
     "exception": false,
     "start_time": "2024-04-01T08:55:34.898976",
     "status": "completed"
    },
    "tags": []
   },
   "source": [
    "- The data is already almost ready for an LLM\n",
    "- But lastly let us embed the tokens in a continuous vector representation using an embedding layer\n",
    "- Usually, these embedding layers are part of the LLM itself and are updated (trained) during model training"
   ]
  },
  {
   "cell_type": "markdown",
   "id": "54d5c0fe",
   "metadata": {
    "papermill": {
     "duration": 0.039279,
     "end_time": "2024-04-01T08:55:35.015258",
     "exception": false,
     "start_time": "2024-04-01T08:55:34.975979",
     "status": "completed"
    },
    "tags": []
   },
   "source": [
    "<img src=\"https://sebastianraschka.com/images/LLMs-from-scratch-images/ch02_compressed/15.webp\" width=\"400px\">"
   ]
  },
  {
   "cell_type": "markdown",
   "id": "222cd521",
   "metadata": {
    "papermill": {
     "duration": 0.037279,
     "end_time": "2024-04-01T08:55:35.093038",
     "exception": false,
     "start_time": "2024-04-01T08:55:35.055759",
     "status": "completed"
    },
    "tags": []
   },
   "source": [
    "- Suppose we have the following four input examples with input ids 5, 1, 3, and 2 (after tokenization):"
   ]
  },
  {
   "cell_type": "code",
   "execution_count": 43,
   "id": "8c3886a0",
   "metadata": {
    "execution": {
     "iopub.execute_input": "2024-04-01T08:55:35.175298Z",
     "iopub.status.busy": "2024-04-01T08:55:35.174413Z",
     "iopub.status.idle": "2024-04-01T08:55:35.179800Z",
     "shell.execute_reply": "2024-04-01T08:55:35.178876Z"
    },
    "papermill": {
     "duration": 0.051118,
     "end_time": "2024-04-01T08:55:35.182381",
     "exception": false,
     "start_time": "2024-04-01T08:55:35.131263",
     "status": "completed"
    },
    "tags": []
   },
   "outputs": [],
   "source": [
    "input_ids = torch.tensor([2, 3, 5, 1])"
   ]
  },
  {
   "cell_type": "markdown",
   "id": "2f3e8e01",
   "metadata": {
    "papermill": {
     "duration": 0.037368,
     "end_time": "2024-04-01T08:55:35.257323",
     "exception": false,
     "start_time": "2024-04-01T08:55:35.219955",
     "status": "completed"
    },
    "tags": []
   },
   "source": [
    "- For the sake of simplicity, suppose we have a small vocabulary of only 6 words and we want to create embeddings of size 3:"
   ]
  },
  {
   "cell_type": "code",
   "execution_count": 44,
   "id": "611d6c4c",
   "metadata": {
    "execution": {
     "iopub.execute_input": "2024-04-01T08:55:35.336414Z",
     "iopub.status.busy": "2024-04-01T08:55:35.335616Z",
     "iopub.status.idle": "2024-04-01T08:55:35.348642Z",
     "shell.execute_reply": "2024-04-01T08:55:35.347439Z"
    },
    "papermill": {
     "duration": 0.055875,
     "end_time": "2024-04-01T08:55:35.351759",
     "exception": false,
     "start_time": "2024-04-01T08:55:35.295884",
     "status": "completed"
    },
    "tags": []
   },
   "outputs": [],
   "source": [
    "vocab_size = 6\n",
    "output_dim = 3\n",
    "\n",
    "torch.manual_seed(123)\n",
    "embedding_layer = torch.nn.Embedding(vocab_size, output_dim)"
   ]
  },
  {
   "cell_type": "markdown",
   "id": "9bc2d2d2",
   "metadata": {
    "papermill": {
     "duration": 0.039328,
     "end_time": "2024-04-01T08:55:35.430135",
     "exception": false,
     "start_time": "2024-04-01T08:55:35.390807",
     "status": "completed"
    },
    "tags": []
   },
   "source": [
    "- This would result in a 6x3 weight matrix:"
   ]
  },
  {
   "cell_type": "code",
   "execution_count": 45,
   "id": "36e79a97",
   "metadata": {
    "execution": {
     "iopub.execute_input": "2024-04-01T08:55:35.509748Z",
     "iopub.status.busy": "2024-04-01T08:55:35.509346Z",
     "iopub.status.idle": "2024-04-01T08:55:35.566208Z",
     "shell.execute_reply": "2024-04-01T08:55:35.565003Z"
    },
    "papermill": {
     "duration": 0.099367,
     "end_time": "2024-04-01T08:55:35.569121",
     "exception": false,
     "start_time": "2024-04-01T08:55:35.469754",
     "status": "completed"
    },
    "tags": []
   },
   "outputs": [
    {
     "name": "stdout",
     "output_type": "stream",
     "text": [
      "Parameter containing:\n",
      "tensor([[ 0.3374, -0.1778, -0.1690],\n",
      "        [ 0.9178,  1.5810,  1.3010],\n",
      "        [ 1.2753, -0.2010, -0.1606],\n",
      "        [-0.4015,  0.9666, -1.1481],\n",
      "        [-1.1589,  0.3255, -0.6315],\n",
      "        [-2.8400, -0.7849, -1.4096]], requires_grad=True)\n"
     ]
    }
   ],
   "source": [
    "print(embedding_layer.weight)"
   ]
  },
  {
   "cell_type": "markdown",
   "id": "23c98082",
   "metadata": {
    "papermill": {
     "duration": 0.038185,
     "end_time": "2024-04-01T08:55:35.647121",
     "exception": false,
     "start_time": "2024-04-01T08:55:35.608936",
     "status": "completed"
    },
    "tags": []
   },
   "source": [
    "- For those who are familiar with one-hot encoding, the embedding layer approach above is essentially just a more efficient way of implementing one-hot encoding followed by matrix multiplication in a fully-connected layer, which is described in the supplementary code in [./embedding_vs_matmul](../03_bonus_embedding-vs-matmul)\n",
    "- Because the embedding layer is just a more efficient implementation that is equivalent to the one-hot encoding and matrix-multiplication approach it can be seen as a neural network layer that can be optimized via backpropagation"
   ]
  },
  {
   "cell_type": "markdown",
   "id": "bd6e6d4a",
   "metadata": {
    "papermill": {
     "duration": 0.037561,
     "end_time": "2024-04-01T08:55:35.723247",
     "exception": false,
     "start_time": "2024-04-01T08:55:35.685686",
     "status": "completed"
    },
    "tags": []
   },
   "source": [
    "- To convert a token with id 3 into a 3-dimensional vector, we do the following:"
   ]
  },
  {
   "cell_type": "code",
   "execution_count": 46,
   "id": "94cd9a96",
   "metadata": {
    "execution": {
     "iopub.execute_input": "2024-04-01T08:55:35.800886Z",
     "iopub.status.busy": "2024-04-01T08:55:35.800492Z",
     "iopub.status.idle": "2024-04-01T08:55:35.819096Z",
     "shell.execute_reply": "2024-04-01T08:55:35.818097Z"
    },
    "papermill": {
     "duration": 0.060524,
     "end_time": "2024-04-01T08:55:35.821502",
     "exception": false,
     "start_time": "2024-04-01T08:55:35.760978",
     "status": "completed"
    },
    "tags": []
   },
   "outputs": [
    {
     "name": "stdout",
     "output_type": "stream",
     "text": [
      "tensor([[-0.4015,  0.9666, -1.1481]], grad_fn=<EmbeddingBackward0>)\n"
     ]
    }
   ],
   "source": [
    "print(embedding_layer(torch.tensor([3])))"
   ]
  },
  {
   "cell_type": "markdown",
   "id": "51dccee5",
   "metadata": {
    "papermill": {
     "duration": 0.038184,
     "end_time": "2024-04-01T08:55:35.899153",
     "exception": false,
     "start_time": "2024-04-01T08:55:35.860969",
     "status": "completed"
    },
    "tags": []
   },
   "source": [
    "- Note that the above is the 4th row in the `embedding_layer` weight matrix\n",
    "- To embed all four `input_ids` values above, we do"
   ]
  },
  {
   "cell_type": "code",
   "execution_count": 47,
   "id": "35c891bc",
   "metadata": {
    "execution": {
     "iopub.execute_input": "2024-04-01T08:55:35.977472Z",
     "iopub.status.busy": "2024-04-01T08:55:35.976675Z",
     "iopub.status.idle": "2024-04-01T08:55:35.983348Z",
     "shell.execute_reply": "2024-04-01T08:55:35.982029Z"
    },
    "papermill": {
     "duration": 0.048888,
     "end_time": "2024-04-01T08:55:35.985850",
     "exception": false,
     "start_time": "2024-04-01T08:55:35.936962",
     "status": "completed"
    },
    "tags": []
   },
   "outputs": [
    {
     "name": "stdout",
     "output_type": "stream",
     "text": [
      "tensor([[ 1.2753, -0.2010, -0.1606],\n",
      "        [-0.4015,  0.9666, -1.1481],\n",
      "        [-2.8400, -0.7849, -1.4096],\n",
      "        [ 0.9178,  1.5810,  1.3010]], grad_fn=<EmbeddingBackward0>)\n"
     ]
    }
   ],
   "source": [
    "print(embedding_layer(input_ids))"
   ]
  },
  {
   "cell_type": "code",
   "execution_count": 48,
   "id": "b38d9104",
   "metadata": {
    "execution": {
     "iopub.execute_input": "2024-04-01T08:55:36.069010Z",
     "iopub.status.busy": "2024-04-01T08:55:36.068422Z",
     "iopub.status.idle": "2024-04-01T08:55:36.073402Z",
     "shell.execute_reply": "2024-04-01T08:55:36.072295Z"
    },
    "papermill": {
     "duration": 0.050909,
     "end_time": "2024-04-01T08:55:36.075807",
     "exception": false,
     "start_time": "2024-04-01T08:55:36.024898",
     "status": "completed"
    },
    "tags": []
   },
   "outputs": [],
   "source": [
    "#  An embedding layer is essentially a look-up operation:"
   ]
  },
  {
   "cell_type": "markdown",
   "id": "e4ee94ea",
   "metadata": {
    "papermill": {
     "duration": 0.037628,
     "end_time": "2024-04-01T08:55:36.153371",
     "exception": false,
     "start_time": "2024-04-01T08:55:36.115743",
     "status": "completed"
    },
    "tags": []
   },
   "source": [
    "<img src=\"https://sebastianraschka.com/images/LLMs-from-scratch-images/ch02_compressed/16.webp\" width=\"500px\">"
   ]
  },
  {
   "cell_type": "markdown",
   "id": "9c3723b6",
   "metadata": {
    "papermill": {
     "duration": 0.038112,
     "end_time": "2024-04-01T08:55:36.231438",
     "exception": false,
     "start_time": "2024-04-01T08:55:36.193326",
     "status": "completed"
    },
    "tags": []
   },
   "source": [
    "- **You may be interested in the bonus content comparing embedding layers with regular linear layers: [../02_bonus_efficient-multihead-attention](../02_bonus_efficient-multihead-attention)**"
   ]
  },
  {
   "cell_type": "markdown",
   "id": "6768c292",
   "metadata": {
    "papermill": {
     "duration": 0.038612,
     "end_time": "2024-04-01T08:55:36.309953",
     "exception": false,
     "start_time": "2024-04-01T08:55:36.271341",
     "status": "completed"
    },
    "tags": []
   },
   "source": [
    "## 2.8 Encoding word positions"
   ]
  },
  {
   "cell_type": "markdown",
   "id": "e305c015",
   "metadata": {
    "papermill": {
     "duration": 0.03916,
     "end_time": "2024-04-01T08:55:36.387180",
     "exception": false,
     "start_time": "2024-04-01T08:55:36.348020",
     "status": "completed"
    },
    "tags": []
   },
   "source": [
    "- Embedding layer convert IDs into identical vector representations regardless of where they are located in the input sequence:"
   ]
  },
  {
   "cell_type": "markdown",
   "id": "90d49bfb",
   "metadata": {
    "papermill": {
     "duration": 0.039218,
     "end_time": "2024-04-01T08:55:36.467645",
     "exception": false,
     "start_time": "2024-04-01T08:55:36.428427",
     "status": "completed"
    },
    "tags": []
   },
   "source": [
    "<img src=\"https://sebastianraschka.com/images/LLMs-from-scratch-images/ch02_compressed/17.webp\" width=\"400px\">"
   ]
  },
  {
   "cell_type": "markdown",
   "id": "5cb36745",
   "metadata": {
    "papermill": {
     "duration": 0.038984,
     "end_time": "2024-04-01T08:55:36.545091",
     "exception": false,
     "start_time": "2024-04-01T08:55:36.506107",
     "status": "completed"
    },
    "tags": []
   },
   "source": [
    "- Positional embeddings are combined with the token embedding vector to form the input embeddings for a large language model:"
   ]
  },
  {
   "cell_type": "markdown",
   "id": "baa0c38a",
   "metadata": {
    "papermill": {
     "duration": 0.0377,
     "end_time": "2024-04-01T08:55:36.621311",
     "exception": false,
     "start_time": "2024-04-01T08:55:36.583611",
     "status": "completed"
    },
    "tags": []
   },
   "source": [
    "<img src=\"https://sebastianraschka.com/images/LLMs-from-scratch-images/ch02_compressed/18.webp\" width=\"500px\">"
   ]
  },
  {
   "cell_type": "markdown",
   "id": "bce778ae",
   "metadata": {
    "papermill": {
     "duration": 0.037965,
     "end_time": "2024-04-01T08:55:36.698086",
     "exception": false,
     "start_time": "2024-04-01T08:55:36.660121",
     "status": "completed"
    },
    "tags": []
   },
   "source": [
    "- The BytePair encoder has a vocabulary size of 50,257:\n",
    "- Suppose we want to encode the input tokens into a 256-dimensional vector representation:"
   ]
  },
  {
   "cell_type": "code",
   "execution_count": 49,
   "id": "79da749b",
   "metadata": {
    "execution": {
     "iopub.execute_input": "2024-04-01T08:55:36.778599Z",
     "iopub.status.busy": "2024-04-01T08:55:36.778153Z",
     "iopub.status.idle": "2024-04-01T08:55:36.938278Z",
     "shell.execute_reply": "2024-04-01T08:55:36.936796Z"
    },
    "papermill": {
     "duration": 0.20417,
     "end_time": "2024-04-01T08:55:36.941073",
     "exception": false,
     "start_time": "2024-04-01T08:55:36.736903",
     "status": "completed"
    },
    "tags": []
   },
   "outputs": [],
   "source": [
    "vocab_size = 50257\n",
    "output_dim = 256\n",
    "\n",
    "token_embedding_layer = torch.nn.Embedding(vocab_size, output_dim)"
   ]
  },
  {
   "cell_type": "markdown",
   "id": "c5ce0ad4",
   "metadata": {
    "papermill": {
     "duration": 0.043864,
     "end_time": "2024-04-01T08:55:37.023382",
     "exception": false,
     "start_time": "2024-04-01T08:55:36.979518",
     "status": "completed"
    },
    "tags": []
   },
   "source": [
    "- If we sample data from the dataloader, we embed the tokens in each batch into a 256-dimensional vector\n",
    "- If we have a batch size of 8 with 4 tokens each, this results in a 8 x 4 x 256 tensor:"
   ]
  },
  {
   "cell_type": "code",
   "execution_count": 50,
   "id": "fb4ae429",
   "metadata": {
    "execution": {
     "iopub.execute_input": "2024-04-01T08:55:37.118234Z",
     "iopub.status.busy": "2024-04-01T08:55:37.117380Z",
     "iopub.status.idle": "2024-04-01T08:55:37.152008Z",
     "shell.execute_reply": "2024-04-01T08:55:37.150629Z"
    },
    "papermill": {
     "duration": 0.080618,
     "end_time": "2024-04-01T08:55:37.154999",
     "exception": false,
     "start_time": "2024-04-01T08:55:37.074381",
     "status": "completed"
    },
    "tags": []
   },
   "outputs": [],
   "source": [
    "max_length = 4\n",
    "dataloader = create_dataloader_v1(raw_text, batch_size=8, max_length=max_length, stride=max_length, shuffle=False)\n",
    "data_iter = iter(dataloader)\n",
    "inputs, targets = next(data_iter)"
   ]
  },
  {
   "cell_type": "code",
   "execution_count": 51,
   "id": "81a6e7ba",
   "metadata": {
    "execution": {
     "iopub.execute_input": "2024-04-01T08:55:37.234227Z",
     "iopub.status.busy": "2024-04-01T08:55:37.233791Z",
     "iopub.status.idle": "2024-04-01T08:55:37.241056Z",
     "shell.execute_reply": "2024-04-01T08:55:37.239773Z"
    },
    "papermill": {
     "duration": 0.05046,
     "end_time": "2024-04-01T08:55:37.243852",
     "exception": false,
     "start_time": "2024-04-01T08:55:37.193392",
     "status": "completed"
    },
    "tags": []
   },
   "outputs": [
    {
     "name": "stdout",
     "output_type": "stream",
     "text": [
      "Token IDs:\n",
      " tensor([[   40,   367,  2885,  1464],\n",
      "        [ 1807,  3619,   402,   271],\n",
      "        [10899,  2138,   257,  7026],\n",
      "        [15632,   438,  2016,   257],\n",
      "        [  922,  5891,  1576,   438],\n",
      "        [  568,   340,   373,   645],\n",
      "        [ 1049,  5975,   284,   502],\n",
      "        [  284,  3285,   326,    11]])\n",
      "\n",
      "Inputs shape:\n",
      " torch.Size([8, 4])\n"
     ]
    }
   ],
   "source": [
    "print(\"Token IDs:\\n\", inputs)\n",
    "print(\"\\nInputs shape:\\n\", inputs.shape)"
   ]
  },
  {
   "cell_type": "code",
   "execution_count": 52,
   "id": "bc2c79f7",
   "metadata": {
    "execution": {
     "iopub.execute_input": "2024-04-01T08:55:37.329889Z",
     "iopub.status.busy": "2024-04-01T08:55:37.327503Z",
     "iopub.status.idle": "2024-04-01T08:55:37.335903Z",
     "shell.execute_reply": "2024-04-01T08:55:37.334385Z"
    },
    "papermill": {
     "duration": 0.055069,
     "end_time": "2024-04-01T08:55:37.338311",
     "exception": false,
     "start_time": "2024-04-01T08:55:37.283242",
     "status": "completed"
    },
    "tags": []
   },
   "outputs": [
    {
     "name": "stdout",
     "output_type": "stream",
     "text": [
      "torch.Size([8, 4, 256])\n"
     ]
    }
   ],
   "source": [
    "token_embeddings = token_embedding_layer(inputs)\n",
    "print(token_embeddings.shape)"
   ]
  },
  {
   "cell_type": "markdown",
   "id": "51a6e164",
   "metadata": {
    "papermill": {
     "duration": 0.038241,
     "end_time": "2024-04-01T08:55:37.415731",
     "exception": false,
     "start_time": "2024-04-01T08:55:37.377490",
     "status": "completed"
    },
    "tags": []
   },
   "source": [
    "- GPT-2 uses absolute position embeddings, so we just create another embedding layer:"
   ]
  },
  {
   "cell_type": "code",
   "execution_count": 53,
   "id": "bb4bd23b",
   "metadata": {
    "execution": {
     "iopub.execute_input": "2024-04-01T08:55:37.494664Z",
     "iopub.status.busy": "2024-04-01T08:55:37.493613Z",
     "iopub.status.idle": "2024-04-01T08:55:37.499551Z",
     "shell.execute_reply": "2024-04-01T08:55:37.498589Z"
    },
    "papermill": {
     "duration": 0.048203,
     "end_time": "2024-04-01T08:55:37.502147",
     "exception": false,
     "start_time": "2024-04-01T08:55:37.453944",
     "status": "completed"
    },
    "tags": []
   },
   "outputs": [],
   "source": [
    "block_size = max_length\n",
    "pos_embedding_layer = torch.nn.Embedding(block_size, output_dim)"
   ]
  },
  {
   "cell_type": "code",
   "execution_count": 54,
   "id": "b95c0391",
   "metadata": {
    "execution": {
     "iopub.execute_input": "2024-04-01T08:55:37.581244Z",
     "iopub.status.busy": "2024-04-01T08:55:37.580543Z",
     "iopub.status.idle": "2024-04-01T08:55:37.590911Z",
     "shell.execute_reply": "2024-04-01T08:55:37.589416Z"
    },
    "papermill": {
     "duration": 0.052912,
     "end_time": "2024-04-01T08:55:37.593524",
     "exception": false,
     "start_time": "2024-04-01T08:55:37.540612",
     "status": "completed"
    },
    "tags": []
   },
   "outputs": [
    {
     "name": "stdout",
     "output_type": "stream",
     "text": [
      "torch.Size([4, 256])\n"
     ]
    }
   ],
   "source": [
    "pos_embeddings = pos_embedding_layer(torch.arange(max_length))\n",
    "print(pos_embeddings.shape)"
   ]
  },
  {
   "cell_type": "markdown",
   "id": "0b0ce9d1",
   "metadata": {
    "papermill": {
     "duration": 0.03832,
     "end_time": "2024-04-01T08:55:37.670286",
     "exception": false,
     "start_time": "2024-04-01T08:55:37.631966",
     "status": "completed"
    },
    "tags": []
   },
   "source": [
    "- To create the input embeddings used in an LLM, we simply add the token and the positional embeddings:"
   ]
  },
  {
   "cell_type": "code",
   "execution_count": 55,
   "id": "05bf07b5",
   "metadata": {
    "execution": {
     "iopub.execute_input": "2024-04-01T08:55:37.749879Z",
     "iopub.status.busy": "2024-04-01T08:55:37.749058Z",
     "iopub.status.idle": "2024-04-01T08:55:37.759044Z",
     "shell.execute_reply": "2024-04-01T08:55:37.757563Z"
    },
    "papermill": {
     "duration": 0.052397,
     "end_time": "2024-04-01T08:55:37.761503",
     "exception": false,
     "start_time": "2024-04-01T08:55:37.709106",
     "status": "completed"
    },
    "tags": []
   },
   "outputs": [
    {
     "name": "stdout",
     "output_type": "stream",
     "text": [
      "torch.Size([8, 4, 256])\n"
     ]
    }
   ],
   "source": [
    "input_embeddings = token_embeddings + pos_embeddings\n",
    "print(input_embeddings.shape)"
   ]
  },
  {
   "cell_type": "markdown",
   "id": "ed888181",
   "metadata": {
    "papermill": {
     "duration": 0.038693,
     "end_time": "2024-04-01T08:55:37.840658",
     "exception": false,
     "start_time": "2024-04-01T08:55:37.801965",
     "status": "completed"
    },
    "tags": []
   },
   "source": [
    "- In the initial phase of the input processing workflow, the input text is segmented into separate tokens\n",
    "- Following this segmentation, these tokens are transformed into token IDs based on a predefined vocabulary:"
   ]
  },
  {
   "cell_type": "markdown",
   "id": "d86b3705",
   "metadata": {
    "papermill": {
     "duration": 0.03855,
     "end_time": "2024-04-01T08:55:37.918626",
     "exception": false,
     "start_time": "2024-04-01T08:55:37.880076",
     "status": "completed"
    },
    "tags": []
   },
   "source": [
    "<img src=\"https://sebastianraschka.com/images/LLMs-from-scratch-images/ch02_compressed/19.webp\" width=\"400px\">"
   ]
  },
  {
   "cell_type": "markdown",
   "id": "2088cd0d",
   "metadata": {
    "papermill": {
     "duration": 0.038855,
     "end_time": "2024-04-01T08:55:37.996824",
     "exception": false,
     "start_time": "2024-04-01T08:55:37.957969",
     "status": "completed"
    },
    "tags": []
   },
   "source": [
    "# Summary and takeaways"
   ]
  },
  {
   "cell_type": "markdown",
   "id": "e1741e90",
   "metadata": {
    "papermill": {
     "duration": 0.039608,
     "end_time": "2024-04-01T08:55:38.075003",
     "exception": false,
     "start_time": "2024-04-01T08:55:38.035395",
     "status": "completed"
    },
    "tags": []
   },
   "source": [
    "**See the [./dataloader.ipynb](./dataloader.ipynb) code notebook**, which is a concise version of the data loader that we implemented in this chapter and will need for training the GPT model in upcoming chapters.\n",
    "\n",
    "**See [./exercise-solutions.ipynb](./exercise-solutions.ipynb) for the exercise solutions.**"
   ]
  }
 ],
 "metadata": {
  "kaggle": {
   "accelerator": "none",
   "dataSources": [
    {
     "datasetId": 4678076,
     "sourceId": 7954139,
     "sourceType": "datasetVersion"
    }
   ],
   "dockerImageVersionId": 30673,
   "isGpuEnabled": false,
   "isInternetEnabled": true,
   "language": "python",
   "sourceType": "notebook"
  },
  "kernelspec": {
   "display_name": "Python 3",
   "language": "python",
   "name": "python3"
  },
  "language_info": {
   "codemirror_mode": {
    "name": "ipython",
    "version": 3
   },
   "file_extension": ".py",
   "mimetype": "text/x-python",
   "name": "python",
   "nbconvert_exporter": "python",
   "pygments_lexer": "ipython3",
   "version": "3.10.13"
  },
  "papermill": {
   "default_parameters": {},
   "duration": 41.176182,
   "end_time": "2024-04-01T08:55:39.136914",
   "environment_variables": {},
   "exception": null,
   "input_path": "__notebook__.ipynb",
   "output_path": "__notebook__.ipynb",
   "parameters": {},
   "start_time": "2024-04-01T08:54:57.960732",
   "version": "2.5.0"
  }
 },
 "nbformat": 4,
 "nbformat_minor": 5
}
